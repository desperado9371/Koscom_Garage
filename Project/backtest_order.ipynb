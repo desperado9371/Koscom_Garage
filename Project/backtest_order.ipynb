{
 "cells": [
  {
   "cell_type": "code",
   "execution_count": 150,
   "metadata": {},
   "outputs": [],
   "source": [
    "import pandas as pd\n",
    "from datetime import datetime\n",
    "\n",
    "def send_order(market='upbit',order_type='buy', quantity=1, target_date=\"2018-10-11\", krw_balance = 0.0, btc_balance=0.0 ):\n",
    "    \n",
    "    bitcoin_dt = pd.read_csv('upbit_krwbtc_1day.csv')\n",
    "    \n",
    "    target_date = datetime.strptime(target_date,\"%Y-%m-%d\")\n",
    "    \n",
    "    price = -1\n",
    "    \n",
    "    for index, bitcoin in bitcoin_dt.iterrows():\n",
    "        temp = datetime.strptime(bitcoin['timestamp'][:10],\"%Y-%m-%d\")\n",
    "        if temp == target_date:\n",
    "            price = float(bitcoin['close'])\n",
    "            break;\n",
    "            \n",
    "            \n",
    "    if order_type == 'buy':\n",
    "        if (price*quantity) <= krw_balance:\n",
    "            krw_balance = krw_balance - (price * quantity)\n",
    "            btc_balance = btc_balance + quantity\n",
    "            print(\"주문 성공 : 구매 -  btckrw:{} 수량:{} 원화잔고:{} 비트코인잔고:{}\".\n",
    "                  format(float(bitcoin['close']),quantity,krw_balance, btc_balance))\n",
    "        else:\n",
    "            print(\"주문실패 : 잔고부족\")\n",
    "            \n",
    "    elif order_type == 'sell':\n",
    "        if quantity <= btc_balance:\n",
    "            krw_balance = krw_balance + (price * quantity)\n",
    "            btc_balance = btc_balance - quantity\n",
    "            print(\"주문 성공 : 판매 -  btckrw:{} 수량:{} 원화잔고:{} 비트코인잔고:{}\".\n",
    "                  format(float(bitcoin['close']),quantity,krw_balance, btc_balance))\n",
    "        else:\n",
    "            print(\"주문실패 : 잔고부족\")\n",
    "    \n",
    "    return krw_balance, btc_balance\n",
    "\n",
    "    "
   ]
  },
  {
   "cell_type": "code",
   "execution_count": 152,
   "metadata": {},
   "outputs": [
    {
     "name": "stdout",
     "output_type": "stream",
     "text": [
      "현재 원화잔고 : 100000000\\\n",
      "현재 비트코인잔고 : 0\n",
      "주문 성공 : 구매 -  btckrw:4101000.0 수량:8 원화잔고:67192000.0 비트코인잔고:8\n",
      "주문 성공 : 구매 -  btckrw:3986000.0 수량:8 원화잔고:35304000.0 비트코인잔고:16\n",
      "주문 성공 : 구매 -  btckrw:4315000.0 수량:8 원화잔고:784000.0 비트코인잔고:24\n",
      "주문 성공 : 판매 -  btckrw:9587000.0 수량:8 원화잔고:77480000.0 비트코인잔고:16\n",
      "주문 성공 : 판매 -  btckrw:13770000.0 수량:8 원화잔고:187640000.0 비트코인잔고:8\n",
      "주문 성공 : 판매 -  btckrw:12780000.0 수량:8 원화잔고:289880000.0 비트코인잔고:0\n",
      "현재 원화잔고 : 289880000.0\\\n",
      "현재 비트코인잔고 : 0\n",
      "수익률 : 189.88%\n"
     ]
    }
   ],
   "source": [
    "init_krw_bal = 100000000\n",
    "\n",
    "krw_bal = init_krw_bal\n",
    "btc_bal = 0\n",
    "\n",
    "order_quantity = 8\n",
    "\n",
    "list_len = 6\n",
    "date_list=['2019-01-11','2019-02-11','2019-02-20','2019-06-11','2019-07-11','2019-07-20']\n",
    "type_list=['buy','buy','buy','sell','sell','sell']\n",
    "\n",
    "print(\"현재 원화잔고 : {}\\\\\".format(krw_bal))\n",
    "print(\"현재 비트코인잔고 : {}\".format(btc_bal))\n",
    "\n",
    "for i in range(list_len):\n",
    "    krw_bal, btc_bal = send_order(market='upbit',\n",
    "                                  order_type=type_list[i],\n",
    "                                  quantity= order_quantity,\n",
    "                                  target_date=date_list[i],\n",
    "                                  krw_balance = krw_bal,\n",
    "                                  btc_balance=btc_bal)\n",
    "    \n",
    "print(\"현재 원화잔고 : {}\\\\\".format(krw_bal))\n",
    "print(\"현재 비트코인잔고 : {}\".format(btc_bal))\n",
    "print(\"수익률 : {}%\".format( (krw_bal-init_krw_bal)/init_krw_bal*100))"
   ]
  },
  {
   "cell_type": "code",
   "execution_count": 139,
   "metadata": {},
   "outputs": [],
   "source": [
    "import ta"
   ]
  },
  {
   "cell_type": "code",
   "execution_count": 142,
   "metadata": {},
   "outputs": [
    {
     "data": {
      "text/plain": [
       "<ta.trend.MACD at 0x1371c1f5d08>"
      ]
     },
     "execution_count": 142,
     "metadata": {},
     "output_type": "execute_result"
    }
   ],
   "source": [
    "macd = ta.trend.MACD(bitcoin_dt['close'])"
   ]
  },
  {
   "cell_type": "code",
   "execution_count": 146,
   "metadata": {},
   "outputs": [
    {
     "name": "stderr",
     "output_type": "stream",
     "text": [
      "C:\\Users\\KOSCOM\\Anaconda3\\lib\\site-packages\\ta\\trend.py:543: RuntimeWarning: invalid value encountered in double_scalars\n",
      "  dip[i] = 100 * (self._dip[i]/self._trs[i])\n",
      "C:\\Users\\KOSCOM\\Anaconda3\\lib\\site-packages\\ta\\trend.py:547: RuntimeWarning: invalid value encountered in double_scalars\n",
      "  din[i] = 100 * (self._din[i]/self._trs[i])\n"
     ]
    }
   ],
   "source": [
    "df = ta.add_all_ta_features(\n",
    "    bitcoin_dt, open=\"open\", high=\"high\", low=\"low\", close=\"close\", volume=\"volume\")"
   ]
  },
  {
   "cell_type": "markdown",
   "metadata": {},
   "source": [
    "bitcoin_dt"
   ]
  },
  {
   "cell_type": "code",
   "execution_count": 162,
   "metadata": {},
   "outputs": [],
   "source": [
    "bitcoin_dt = pd.read_csv('upbit_krwbtc_1day.csv')\n",
    "df = bitcoin_dt"
   ]
  },
  {
   "cell_type": "code",
   "execution_count": 163,
   "metadata": {},
   "outputs": [],
   "source": [
    "indicator_macd = ta.trend.MACD(df['close'])"
   ]
  },
  {
   "cell_type": "code",
   "execution_count": 164,
   "metadata": {},
   "outputs": [],
   "source": [
    "# Add Bollinger Bands features\n",
    "df['macd'] = indicator_macd.macd()\n",
    "df['macd_diff'] = indicator_macd.macd_diff()\n",
    "df['macd_signal'] = indicator_macd.macd_signal()"
   ]
  },
  {
   "cell_type": "code",
   "execution_count": 200,
   "metadata": {},
   "outputs": [
    {
     "data": {
      "text/plain": [
       "<matplotlib.axes._subplots.AxesSubplot at 0x1371e0fb8c8>"
      ]
     },
     "execution_count": 200,
     "metadata": {},
     "output_type": "execute_result"
    },
    {
     "data": {
      "image/png": "[encoded data removed]",
      "text/plain": [
       "<Figure size 432x288 with 1 Axes>"
      ]
     },
     "metadata": {
      "needs_background": "light"
     },
     "output_type": "display_data"
    }
   ],
   "source": [
    "df['macd'].plot()"
   ]
  },
  {
   "cell_type": "code",
   "execution_count": 170,
   "metadata": {},
   "outputs": [
    {
     "data": {
      "text/plain": [
       "<matplotlib.axes._subplots.AxesSubplot at 0x1371e090688>"
      ]
     },
     "execution_count": 170,
     "metadata": {},
     "output_type": "execute_result"
    },
    {
     "data": {
      "image/png": "[encoded data removed]",
      "text/plain": [
       "<Figure size 432x288 with 1 Axes>"
      ]
     },
     "metadata": {
      "needs_background": "light"
     },
     "output_type": "display_data"
    }
   ],
   "source": [
    "df['macd_signal'].plot()"
   ]
  },
  {
   "cell_type": "code",
   "execution_count": 171,
   "metadata": {},
   "outputs": [
    {
     "data": {
      "text/html": [
       "<div>\n",
       "<style scoped>\n",
       "    .dataframe tbody tr th:only-of-type {\n",
       "        vertical-align: middle;\n",
       "    }\n",
       "\n",
       "    .dataframe tbody tr th {\n",
       "        vertical-align: top;\n",
       "    }\n",
       "\n",
       "    .dataframe thead th {\n",
       "        text-align: right;\n",
       "    }\n",
       "</style>\n",
       "<table border=\"1\" class=\"dataframe\">\n",
       "  <thead>\n",
       "    <tr style=\"text-align: right;\">\n",
       "      <th></th>\n",
       "      <th>timestamp</th>\n",
       "      <th>open</th>\n",
       "      <th>close</th>\n",
       "      <th>high</th>\n",
       "      <th>low</th>\n",
       "      <th>volume</th>\n",
       "      <th>macd</th>\n",
       "      <th>macd_diff</th>\n",
       "      <th>macd_signal</th>\n",
       "    </tr>\n",
       "  </thead>\n",
       "  <tbody>\n",
       "    <tr>\n",
       "      <td>0</td>\n",
       "      <td>2017-09-25T09:00:00</td>\n",
       "      <td>4201000.0</td>\n",
       "      <td>4322000.0</td>\n",
       "      <td>4333000.0</td>\n",
       "      <td>4175000.0</td>\n",
       "      <td>132.484755</td>\n",
       "      <td>NaN</td>\n",
       "      <td>NaN</td>\n",
       "      <td>NaN</td>\n",
       "    </tr>\n",
       "    <tr>\n",
       "      <td>1</td>\n",
       "      <td>2017-09-26T09:00:00</td>\n",
       "      <td>4317000.0</td>\n",
       "      <td>4321000.0</td>\n",
       "      <td>4418000.0</td>\n",
       "      <td>4311000.0</td>\n",
       "      <td>22.788340</td>\n",
       "      <td>NaN</td>\n",
       "      <td>NaN</td>\n",
       "      <td>NaN</td>\n",
       "    </tr>\n",
       "    <tr>\n",
       "      <td>2</td>\n",
       "      <td>2017-09-27T09:00:00</td>\n",
       "      <td>4322000.0</td>\n",
       "      <td>4657000.0</td>\n",
       "      <td>4677000.0</td>\n",
       "      <td>4318000.0</td>\n",
       "      <td>32.269662</td>\n",
       "      <td>NaN</td>\n",
       "      <td>NaN</td>\n",
       "      <td>NaN</td>\n",
       "    </tr>\n",
       "    <tr>\n",
       "      <td>3</td>\n",
       "      <td>2017-09-28T09:00:00</td>\n",
       "      <td>4657000.0</td>\n",
       "      <td>4586000.0</td>\n",
       "      <td>4772000.0</td>\n",
       "      <td>4519000.0</td>\n",
       "      <td>80.588243</td>\n",
       "      <td>NaN</td>\n",
       "      <td>NaN</td>\n",
       "      <td>NaN</td>\n",
       "    </tr>\n",
       "    <tr>\n",
       "      <td>4</td>\n",
       "      <td>2017-09-29T09:00:00</td>\n",
       "      <td>4586000.0</td>\n",
       "      <td>4657000.0</td>\n",
       "      <td>4709000.0</td>\n",
       "      <td>4476000.0</td>\n",
       "      <td>59.352373</td>\n",
       "      <td>NaN</td>\n",
       "      <td>NaN</td>\n",
       "      <td>NaN</td>\n",
       "    </tr>\n",
       "    <tr>\n",
       "      <td>...</td>\n",
       "      <td>...</td>\n",
       "      <td>...</td>\n",
       "      <td>...</td>\n",
       "      <td>...</td>\n",
       "      <td>...</td>\n",
       "      <td>...</td>\n",
       "      <td>...</td>\n",
       "      <td>...</td>\n",
       "      <td>...</td>\n",
       "    </tr>\n",
       "    <tr>\n",
       "      <td>901</td>\n",
       "      <td>2020-03-14T09:00:00</td>\n",
       "      <td>7261000.0</td>\n",
       "      <td>6823000.0</td>\n",
       "      <td>7284000.0</td>\n",
       "      <td>6600000.0</td>\n",
       "      <td>12799.582205</td>\n",
       "      <td>-9.087010e+05</td>\n",
       "      <td>-424991.479467</td>\n",
       "      <td>-483709.495249</td>\n",
       "    </tr>\n",
       "    <tr>\n",
       "      <td>902</td>\n",
       "      <td>2020-03-15T09:00:00</td>\n",
       "      <td>6823000.0</td>\n",
       "      <td>6909000.0</td>\n",
       "      <td>7298000.0</td>\n",
       "      <td>6660000.0</td>\n",
       "      <td>10779.970084</td>\n",
       "      <td>-9.996996e+05</td>\n",
       "      <td>-412792.047914</td>\n",
       "      <td>-586907.507227</td>\n",
       "    </tr>\n",
       "    <tr>\n",
       "      <td>903</td>\n",
       "      <td>2020-03-16T09:00:00</td>\n",
       "      <td>6905000.0</td>\n",
       "      <td>6385000.0</td>\n",
       "      <td>6914000.0</td>\n",
       "      <td>6000000.0</td>\n",
       "      <td>19383.807849</td>\n",
       "      <td>-1.101403e+06</td>\n",
       "      <td>-411596.171429</td>\n",
       "      <td>-689806.550084</td>\n",
       "    </tr>\n",
       "    <tr>\n",
       "      <td>904</td>\n",
       "      <td>2020-03-17T09:00:00</td>\n",
       "      <td>6385000.0</td>\n",
       "      <td>6774000.0</td>\n",
       "      <td>6885000.0</td>\n",
       "      <td>6280000.0</td>\n",
       "      <td>14938.329466</td>\n",
       "      <td>-1.137502e+06</td>\n",
       "      <td>-358156.161910</td>\n",
       "      <td>-779345.590562</td>\n",
       "    </tr>\n",
       "    <tr>\n",
       "      <td>905</td>\n",
       "      <td>2020-03-18T09:00:00</td>\n",
       "      <td>6774000.0</td>\n",
       "      <td>6823000.0</td>\n",
       "      <td>6869000.0</td>\n",
       "      <td>6767000.0</td>\n",
       "      <td>92.507576</td>\n",
       "      <td>-1.148913e+06</td>\n",
       "      <td>-295653.650904</td>\n",
       "      <td>-853259.003288</td>\n",
       "    </tr>\n",
       "  </tbody>\n",
       "</table>\n",
       "<p>906 rows × 9 columns</p>\n",
       "</div>"
      ],
      "text/plain": [
       "               timestamp       open      close       high        low  \\\n",
       "0    2017-09-25T09:00:00  4201000.0  4322000.0  4333000.0  4175000.0   \n",
       "1    2017-09-26T09:00:00  4317000.0  4321000.0  4418000.0  4311000.0   \n",
       "2    2017-09-27T09:00:00  4322000.0  4657000.0  4677000.0  4318000.0   \n",
       "3    2017-09-28T09:00:00  4657000.0  4586000.0  4772000.0  4519000.0   \n",
       "4    2017-09-29T09:00:00  4586000.0  4657000.0  4709000.0  4476000.0   \n",
       "..                   ...        ...        ...        ...        ...   \n",
       "901  2020-03-14T09:00:00  7261000.0  6823000.0  7284000.0  6600000.0   \n",
       "902  2020-03-15T09:00:00  6823000.0  6909000.0  7298000.0  6660000.0   \n",
       "903  2020-03-16T09:00:00  6905000.0  6385000.0  6914000.0  6000000.0   \n",
       "904  2020-03-17T09:00:00  6385000.0  6774000.0  6885000.0  6280000.0   \n",
       "905  2020-03-18T09:00:00  6774000.0  6823000.0  6869000.0  6767000.0   \n",
       "\n",
       "           volume          macd      macd_diff    macd_signal  \n",
       "0      132.484755           NaN            NaN            NaN  \n",
       "1       22.788340           NaN            NaN            NaN  \n",
       "2       32.269662           NaN            NaN            NaN  \n",
       "3       80.588243           NaN            NaN            NaN  \n",
       "4       59.352373           NaN            NaN            NaN  \n",
       "..            ...           ...            ...            ...  \n",
       "901  12799.582205 -9.087010e+05 -424991.479467 -483709.495249  \n",
       "902  10779.970084 -9.996996e+05 -412792.047914 -586907.507227  \n",
       "903  19383.807849 -1.101403e+06 -411596.171429 -689806.550084  \n",
       "904  14938.329466 -1.137502e+06 -358156.161910 -779345.590562  \n",
       "905     92.507576 -1.148913e+06 -295653.650904 -853259.003288  \n",
       "\n",
       "[906 rows x 9 columns]"
      ]
     },
     "execution_count": 171,
     "metadata": {},
     "output_type": "execute_result"
    }
   ],
   "source": [
    "df"
   ]
  },
  {
   "cell_type": "code",
   "execution_count": 193,
   "metadata": {},
   "outputs": [
    {
     "name": "stdout",
     "output_type": "stream",
     "text": [
      "sell : -296984.1885231398,2018-01-16T09:00:00\n",
      "buy : 607.17467732355,2018-03-02T09:00:00\n",
      "sell : -91614.19833096862,2018-03-08T09:00:00\n",
      "buy : 12853.143007135019,2018-04-20T09:00:00\n",
      "sell : -26272.22668839805,2018-05-17T09:00:00\n",
      "buy : 1924.1937058260664,2018-07-17T09:00:00\n",
      "sell : -41630.25536519103,2018-08-08T09:00:00\n",
      "buy : 16734.457010528073,2018-09-01T09:00:00\n",
      "sell : -40445.322080205195,2018-09-08T09:00:00\n",
      "buy : 6007.915969341062,2018-10-08T09:00:00\n",
      "sell : -11460.715978840366,2018-10-11T09:00:00\n",
      "buy : 7400.2726686205715,2019-01-08T09:00:00\n",
      "sell : -9893.26186533086,2019-01-10T09:00:00\n",
      "buy : 1879.582263130229,2019-02-17T09:00:00\n",
      "sell : -14818.232243638486,2019-07-19T09:00:00\n",
      "buy : 79177.05759454332,2019-08-05T09:00:00\n",
      "sell : -27544.380923382938,2019-08-21T09:00:00\n",
      "buy : 65414.972044635564,2019-10-29T09:00:00\n",
      "sell : -33965.69213083759,2019-11-15T09:00:00\n",
      "buy : 51265.44280757569,2020-01-07T09:00:00\n",
      "sell : -30979.783454496413,2020-02-29T09:00:00\n"
     ]
    },
    {
     "data": {
      "text/plain": [
       "['2018-01-16',\n",
       " '2018-03-02',\n",
       " '2018-03-08',\n",
       " '2018-04-20',\n",
       " '2018-05-17',\n",
       " '2018-07-17',\n",
       " '2018-08-08',\n",
       " '2018-09-01',\n",
       " '2018-09-08',\n",
       " '2018-10-08',\n",
       " '2018-10-11',\n",
       " '2019-01-08',\n",
       " '2019-01-10',\n",
       " '2019-02-17',\n",
       " '2019-07-19',\n",
       " '2019-08-05',\n",
       " '2019-08-21',\n",
       " '2019-10-29',\n",
       " '2019-11-15',\n",
       " '2020-01-07',\n",
       " '2020-02-29']"
      ]
     },
     "execution_count": 193,
     "metadata": {},
     "output_type": "execute_result"
    }
   ],
   "source": [
    "date_list=[]\n",
    "type_list=[]\n",
    "\n",
    "for index, data in df.iterrows():\n",
    "    if str(data['macd']) != 'nan':\n",
    "        if df['macd'][index-1] * data['macd'] < 0:\n",
    "            if data['macd']<0:\n",
    "                print(\"sell : {},{}\".format(data['macd'],data['timestamp']))\n",
    "                date_list.append(data['timestamp'][:10])\n",
    "                type_list.append(\"sell\")\n",
    "            else:\n",
    "                print(\"buy : {},{}\".format(data['macd'],data['timestamp']))\n",
    "                date_list.append(data['timestamp'][:10])\n",
    "                type_list.append(\"buy\")\n"
   ]
  },
  {
   "cell_type": "code",
   "execution_count": 199,
   "metadata": {},
   "outputs": [
    {
     "name": "stdout",
     "output_type": "stream",
     "text": [
      "현재 원화잔고 : 100000000\\\n",
      "현재 비트코인잔고 : 0\n",
      "주문실패 : 잔고부족\n",
      "주문실패 : 잔고부족\n",
      "주문실패 : 잔고부족\n",
      "주문 성공 : 구매 -  btckrw:9552000.0 수량:10 원화잔고:4480000.0 비트코인잔고:10\n",
      "주문 성공 : 판매 -  btckrw:9090000.0 수량:10 원화잔고:95380000.0 비트코인잔고:0\n",
      "주문 성공 : 구매 -  btckrw:8080000.0 수량:10 원화잔고:14580000.0 비트코인잔고:10\n",
      "주문 성공 : 판매 -  btckrw:7308000.0 수량:10 원화잔고:87660000.0 비트코인잔고:0\n",
      "주문 성공 : 구매 -  btckrw:8001000.0 수량:10 원화잔고:7650000.0 비트코인잔고:10\n",
      "주문 성공 : 판매 -  btckrw:7206000.0 수량:10 원화잔고:79710000.0 비트코인잔고:0\n",
      "주문 성공 : 구매 -  btckrw:7542000.0 수량:10 원화잔고:4290000.0 비트코인잔고:10\n",
      "주문 성공 : 판매 -  btckrw:7187000.0 수량:10 원화잔고:76160000.0 비트코인잔고:0\n",
      "주문 성공 : 구매 -  btckrw:4480000.0 수량:10 원화잔고:31360000.0 비트코인잔고:10\n",
      "주문 성공 : 판매 -  btckrw:4087000.0 수량:10 원화잔고:72230000.0 비트코인잔고:0\n",
      "주문 성공 : 구매 -  btckrw:4040000.0 수량:10 원화잔고:31830000.0 비트코인잔고:10\n",
      "주문 성공 : 판매 -  btckrw:12549000.0 수량:10 원화잔고:157320000.0 비트코인잔고:0\n",
      "주문 성공 : 구매 -  btckrw:14181000.0 수량:10 원화잔고:15510000.0 비트코인잔고:10\n",
      "주문 성공 : 판매 -  btckrw:12293000.0 수량:10 원화잔고:138440000.0 비트코인잔고:0\n",
      "주문 성공 : 구매 -  btckrw:10894000.0 수량:10 원화잔고:29500000.0 비트코인잔고:10\n",
      "주문 성공 : 판매 -  btckrw:9914000.0 수량:10 원화잔고:128640000.0 비트코인잔고:0\n",
      "주문 성공 : 구매 -  btckrw:9398000.0 수량:10 원화잔고:34660000.0 비트코인잔고:10\n",
      "주문 성공 : 판매 -  btckrw:10374000.0 수량:10 원화잔고:138400000.0 비트코인잔고:0\n",
      "현재 원화잔고 : 138400000.0\\\n",
      "현재 비트코인잔고 : 0\n",
      "수익률 : 38.4%\n"
     ]
    }
   ],
   "source": [
    "init_krw_bal = 100000000\n",
    "\n",
    "krw_bal = init_krw_bal\n",
    "btc_bal = 0\n",
    "\n",
    "order_quantity = 10\n",
    "\n",
    "\n",
    "print(\"현재 원화잔고 : {}\\\\\".format(krw_bal))\n",
    "print(\"현재 비트코인잔고 : {}\".format(btc_bal))\n",
    "\n",
    "for i in range(len(date_list)):\n",
    "    krw_bal, btc_bal = send_order(market='upbit',\n",
    "                                  order_type=type_list[i],\n",
    "                                  quantity= order_quantity,\n",
    "                                  target_date=date_list[i],\n",
    "                                  krw_balance = krw_bal,\n",
    "                                  btc_balance=btc_bal)\n",
    "    \n",
    "print(\"현재 원화잔고 : {}\\\\\".format(krw_bal))\n",
    "print(\"현재 비트코인잔고 : {}\".format(btc_bal))\n",
    "print(\"수익률 : {}%\".format( (krw_bal-init_krw_bal)/init_krw_bal*100))"
   ]
  },
  {
   "cell_type": "code",
   "execution_count": null,
   "metadata": {},
   "outputs": [],
   "source": []
  }
 ],
 "metadata": {
  "kernelspec": {
   "display_name": "Python 3",
   "language": "python",
   "name": "python3"
  },
  "language_info": {
   "codemirror_mode": {
    "name": "ipython",
    "version": 3
   },
   "file_extension": ".py",
   "mimetype": "text/x-python",
   "name": "python",
   "nbconvert_exporter": "python",
   "pygments_lexer": "ipython3",
   "version": "3.7.4"
  }
 },
 "nbformat": 4,
 "nbformat_minor": 2
}
