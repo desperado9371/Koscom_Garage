{
 "cells": [
  {
   "cell_type": "code",
   "execution_count": 1,
   "metadata": {},
   "outputs": [],
   "source": [
    "import pyupbit"
   ]
  },
  {
   "cell_type": "code",
   "execution_count": 2,
   "metadata": {},
   "outputs": [
    {
     "name": "stdout",
     "output_type": "stream",
     "text": [
      "['KRW-BTC', 'KRW-ETH', 'BTC-ETH', 'BTC-LTC', 'BTC-STRAT', 'BTC-XRP', 'BTC-ETC', 'BTC-OMG', 'BTC-CVC', 'BTC-DGB', 'BTC-PAY', 'BTC-SC', 'BTC-SNT', 'BTC-XVG', 'BTC-WAVES', 'BTC-NMR', 'BTC-GBYTE', 'BTC-XEM', 'BTC-LBC', 'BTC-QTUM', 'BTC-GNT', 'BTC-NXT', 'BTC-BAT', 'BTC-XEL', 'BTC-LSK', 'BTC-RDD', 'BTC-DCT', 'BTC-STEEM', 'BTC-GAME', 'BTC-FCT', 'BTC-PTOY', 'BTC-DCR', 'BTC-DOGE', 'BTC-BNT', 'BTC-XLM', 'BTC-PART', 'BTC-MCO', 'BTC-UBQ', 'BTC-ARDR', 'BTC-KMD', 'BTC-ARK', 'BTC-ADX', 'BTC-SYS', 'BTC-ANT', 'BTC-MUE', 'BTC-XDN', 'BTC-STORJ', 'BTC-QRL', 'BTC-NXS', 'BTC-GRS', 'BTC-VTC', 'BTC-SIB', 'BTC-REP', 'BTC-VIA', 'BTC-SWT', 'BTC-MONA', 'BTC-HMQ', 'BTC-RLC', 'BTC-BLOCK', 'BTC-MEME', 'BTC-OK', 'BTC-XZC', 'BTC-ADT', 'BTC-FTC', 'BTC-ION', 'BTC-GNO', 'BTC-EMC2', 'BTC-EXCL', 'BTC-EXP', 'BTC-VRC', 'BTC-BURST', 'BTC-BLK', 'BTC-ZEN', 'BTC-RADS', 'USDT-BTC', 'USDT-ETH', 'USDT-LTC', 'USDT-XRP', 'USDT-ETC', 'KRW-NEO', 'KRW-MTL', 'KRW-LTC', 'KRW-STRAT', 'KRW-XRP', 'KRW-ETC', 'KRW-OMG', 'KRW-SNT', 'KRW-WAVES', 'KRW-XEM', 'KRW-QTUM', 'KRW-GNT', 'KRW-LSK', 'KRW-STEEM', 'KRW-XLM', 'KRW-ARDR', 'KRW-KMD', 'KRW-ARK', 'KRW-STORJ', 'KRW-GRS', 'KRW-VTC', 'KRW-REP', 'KRW-EMC2', 'BTC-NAV', 'KRW-ADA', 'BTC-ADA', 'BTC-MANA', 'USDT-OMG', 'KRW-SBD', 'BTC-SBD', 'BTC-RCN', 'BTC-VIB', 'KRW-POWR', 'BTC-POWR', 'KRW-BTG', 'USDT-XVG', 'USDT-ADA', 'BTC-ENG', 'BTC-UKG', 'BTC-DNT', 'BTC-IGNIS', 'BTC-SRN', 'BTC-ZRX', 'BTC-VEE', 'BTC-BCPT', 'BTC-TRX', 'BTC-TUSD', 'BTC-LRC', 'BTC-UP', 'KRW-ICX', 'KRW-EOS', 'KRW-STORM', 'BTC-DMT', 'USDT-TUSD', 'KRW-TRX', 'BTC-POLY', 'KRW-MCO', 'BTC-PRO', 'USDT-SC', 'USDT-TRX', 'KRW-SC', 'KRW-GTO', 'KRW-IGNIS', 'KRW-ONT', 'KRW-DCR', 'KRW-ZIL', 'BTC-BLT', 'BTC-STORM', 'BTC-AID', 'BTC-NGC', 'BTC-GTO', 'USDT-DCR', 'BTC-OCN', 'KRW-POLY', 'KRW-ZRX', 'KRW-SRN', 'KRW-LOOM', 'BTC-CMCT', 'BTC-BCH', 'USDT-BCH', 'KRW-BCH', 'BTC-BKX', 'BTC-MFT', 'BTC-LOOM', 'KRW-ADT', 'KRW-ADX', 'KRW-BAT', 'KRW-IOST', 'BTC-RFR', 'KRW-DMT', 'KRW-RFR', 'USDT-DGB', 'KRW-CVC', 'KRW-IQ', 'KRW-IOTA', 'KRW-OST', 'BTC-RVN', 'BTC-BFT', 'BTC-GO', 'BTC-UPP', 'BTC-ENJ', 'BTC-MET', 'BTC-HYDRO', 'KRW-MFT', 'BTC-CRW', 'BTC-DTA', 'BTC-EDR', 'BTC-BOXX', 'KRW-ONG', 'KRW-GAS', 'BTC-IHT', 'BTC-MTL', 'KRW-UPP', 'KRW-ELF', 'BTC-PMA', 'USDT-DOGE', 'USDT-ZRX', 'USDT-RVN', 'USDT-BAT', 'KRW-KNC', 'BTC-PAL', 'BTC-PAX', 'BTC-MOC', 'BTC-NPXS', 'BTC-ZIL', 'BTC-OST', 'BTC-SPC', 'KRW-BSV', 'BTC-BSV', 'BTC-IOST', 'BTC-XNK', 'KRW-THETA', 'BTC-NCASH', 'BTC-JNT', 'BTC-LBA', 'KRW-EDR', 'BTC-DENT', 'BTC-DRGN', 'KRW-QKC', 'KRW-CPT', 'BTC-BTM', 'BTC-ELF', 'KRW-BTT', 'BTC-BTT', 'BTC-VITE', 'BTC-IOTX', 'BTC-BTU', 'BTC-SOLVE', 'BTC-NKN', 'BTC-QNT', 'BTC-CTXC', 'BTC-SPND', 'BTC-META', 'KRW-MOC', 'BTC-SERV', 'BTC-ANKR', 'KRW-COSM', 'BTC-CRO', 'KRW-ENJ', 'KRW-TFUEL', 'BTC-BTS', 'KRW-MANA', 'BTC-TTC', 'KRW-ANKR', 'BTC-VBK', 'BTC-ORBS', 'KRW-NPXS', 'BTC-AERGO', 'KRW-TTC', 'BTC-PI', 'KRW-AERGO', 'KRW-ATOM', 'KRW-TT', 'KRW-CRE', 'BTC-VDX', 'KRW-SOLVE', 'BTC-COSM', 'BTC-ATOM', 'BTC-STPT', 'KRW-MBL', 'BTC-CPT', 'BTC-LAMB', 'BTC-EOS', 'BTC-LUNA', 'BTC-DAI', 'BTC-MKR', 'BTC-BORA', 'KRW-TSHP', 'BTC-TSHP', 'KRW-WAXP', 'BTC-WAXP', 'KRW-HBAR', 'KRW-MED', 'BTC-MED', 'BTC-MLK', 'KRW-MLK']\n"
     ]
    }
   ],
   "source": [
    "print(pyupbit.get_tickers())"
   ]
  },
  {
   "cell_type": "code",
   "execution_count": 7,
   "metadata": {},
   "outputs": [
    {
     "name": "stdout",
     "output_type": "stream",
     "text": [
      "                           open        high         low       close     volume\n",
      "2020-02-26 08:58:00  11340000.0  11352000.0  11329000.0  11329000.0   7.490733\n",
      "2020-02-26 08:59:00  11329000.0  11330000.0  11320000.0  11330000.0   3.874934\n",
      "2020-02-26 09:00:00  11330000.0  11330000.0  11320000.0  11329000.0   5.852677\n",
      "2020-02-26 09:01:00  11329000.0  11329000.0  11304000.0  11321000.0  10.315251\n",
      "2020-02-26 09:02:00  11321000.0  11361000.0  11315000.0  11361000.0  11.992871\n",
      "...                         ...         ...         ...         ...        ...\n",
      "2020-02-26 12:13:00  11146000.0  11147000.0  11143000.0  11143000.0   1.098006\n",
      "2020-02-26 12:14:00  11145000.0  11145000.0  11139000.0  11139000.0   5.650963\n",
      "2020-02-26 12:15:00  11140000.0  11140000.0  11137000.0  11137000.0   1.016825\n",
      "2020-02-26 12:16:00  11136000.0  11141000.0  11135000.0  11138000.0  10.500328\n",
      "2020-02-26 12:17:00  11139000.0  11145000.0  11138000.0  11138000.0   6.365642\n",
      "\n",
      "[200 rows x 5 columns]\n"
     ]
    }
   ],
   "source": [
    "print(pyupbit.get_ohlcv(\"KRW-BTC\", interval=\"minute1\", count=200)) "
   ]
  },
  {
   "cell_type": "code",
   "execution_count": 44,
   "metadata": {},
   "outputs": [
    {
     "data": {
      "text/plain": [
       "{'market': 'KRW-BTC',\n",
       " 'candle_date_time_utc': '2020-02-26T04:42:00',\n",
       " 'candle_date_time_kst': '2020-02-26T13:42:00',\n",
       " 'opening_price': 11096000.0,\n",
       " 'high_price': 11096000.0,\n",
       " 'low_price': 11091000.0,\n",
       " 'trade_price': 11096000.0,\n",
       " 'timestamp': 1582692159577,\n",
       " 'candle_acc_trade_price': 25937589.43307,\n",
       " 'candle_acc_trade_volume': 2.33825572,\n",
       " 'unit': 1}"
      ]
     },
     "execution_count": 44,
     "metadata": {},
     "output_type": "execute_result"
    }
   ],
   "source": [
    "import requests\n",
    "import json\n",
    "\n",
    "url = \"https://api.upbit.com/v1/candles/minutes/1\"\n",
    "\n",
    "querystring = {\"market\":\"KRW-BTC\",\"count\":\"200\",}\n",
    "\n",
    "response = requests.request(\"GET\", url, params=querystring)\n",
    "\n",
    "d = json.loads(response.text)\n",
    "len(d)\n",
    "d[0]"
   ]
  },
  {
   "cell_type": "code",
   "execution_count": null,
   "metadata": {},
   "outputs": [],
   "source": []
  }
 ],
 "metadata": {
  "kernelspec": {
   "display_name": "Python 3",
   "language": "python",
   "name": "python3"
  },
  "language_info": {
   "codemirror_mode": {
    "name": "ipython",
    "version": 3
   },
   "file_extension": ".py",
   "mimetype": "text/x-python",
   "name": "python",
   "nbconvert_exporter": "python",
   "pygments_lexer": "ipython3",
   "version": "3.7.6"
  }
 },
 "nbformat": 4,
 "nbformat_minor": 4
}
