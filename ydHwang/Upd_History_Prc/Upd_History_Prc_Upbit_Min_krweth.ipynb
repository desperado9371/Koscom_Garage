{
 "cells": [
  {
   "cell_type": "code",
   "execution_count": 11,
   "metadata": {},
   "outputs": [],
   "source": [
    "import mysql.connector as sql\n",
    "import glob\n",
    "import pandas as pd\n",
    "from datetime import datetime"
   ]
  },
  {
   "cell_type": "code",
   "execution_count": 12,
   "metadata": {},
   "outputs": [],
   "source": [
    "df = pd.read_csv(\"/home/garage/workspace/price_update_crontab/upbit_krweth_1min.csv\")"
   ]
  },
  {
   "cell_type": "code",
   "execution_count": 13,
   "metadata": {},
   "outputs": [
    {
     "name": "stdout",
     "output_type": "stream",
     "text": [
      "                timestamp      open     close      high       low      volume\n",
      "1608  2020-09-18T09:52:00  452500.0  452550.0  452550.0  452450.0   45.179840\n",
      "1609  2020-09-18T09:53:00  452500.0  452600.0  452600.0  452500.0   99.012877\n",
      "1610  2020-09-18T09:54:00  452600.0  452600.0  452600.0  452500.0   16.087115\n",
      "1611  2020-09-18T09:55:00  452500.0  452500.0  452600.0  452500.0   10.277513\n",
      "1612  2020-09-18T09:56:00  452500.0  452400.0  452500.0  452400.0    3.256670\n",
      "1613  2020-09-18T09:57:00  452400.0  452400.0  452600.0  452400.0   17.407238\n",
      "1614  2020-09-18T09:58:00  452500.0  452400.0  452500.0  452400.0    5.562064\n",
      "1615  2020-09-18T09:59:00  452400.0  452600.0  452600.0  452350.0  125.788384\n",
      "1616  2020-09-18T10:00:00  452600.0  452400.0  452650.0  452400.0   12.784606\n",
      "1617  2020-09-18T10:01:00  452400.0  453000.0  453050.0  452400.0   15.323395\n",
      "1618  2020-09-18T10:02:00  453050.0  453000.0  453200.0  453000.0    5.202440\n"
     ]
    }
   ],
   "source": [
    "df = df.tail(11)\n",
    "print(df)"
   ]
  },
  {
   "cell_type": "code",
   "execution_count": 14,
   "metadata": {},
   "outputs": [],
   "source": [
    "db_connection = sql.connect(host='root.cqyptexqvznx.ap-northeast-2.rds.amazonaws.com',port=int(3306), database='garage_test', user='root', password='koscom!234')\n",
    "db_cursor = db_connection.cursor()"
   ]
  },
  {
   "cell_type": "code",
   "execution_count": 15,
   "metadata": {},
   "outputs": [
    {
     "name": "stdout",
     "output_type": "stream",
     "text": [
      "20200918\n",
      "10:02:00\n"
     ]
    }
   ],
   "source": [
    "\n",
    "query = 'SELECT max(base_time) FROM history_prc_upbit WHERE base_dt = %s and coin_type = %s'\n",
    "db_cursor.execute(query,(datetime.today().strftime(\"%Y%m%d\"),'eth',))\n",
    "print(datetime.today().strftime(\"%Y%m%d\"))\n",
    "max_time = db_cursor.fetchone()[0]\n",
    "print(max_time)\n"
   ]
  },
  {
   "cell_type": "code",
   "execution_count": 16,
   "metadata": {},
   "outputs": [],
   "source": [
    "for i in range(len(df)):\n",
    "    tmp = str(df.iloc[i]['timestamp']).replace(\"-\",\"\")\n",
    "    tmp = tmp.split('T')\n",
    "    base_dt = tmp[0]\n",
    "    \n",
    "    coin_type = 'eth'\n",
    "    base_time = tmp[1]\n",
    "    if max_time >= tmp[1] :\n",
    "        continue  \n",
    "    open_price = df.iloc[i]['open']\n",
    "    close_price = df.iloc[i]['close']\n",
    "    high_price = df.iloc[i]['high']\n",
    "    low_price = df.iloc[i]['low']\n",
    "    volumn = df.iloc[i]['volume']\n",
    "\n",
    "    query = \"INSERT INTO history_prc_upbit VALUES('{}','{}','{}',{},{},{},{},{})\".format(base_dt,base_time,coin_type,open_price,close_price,high_price,low_price,volumn)\n",
    "    db_cursor.execute(query)\n",
    "    print(query)\n",
    "    db_connection.commit()\n",
    "db_connection.close()"
   ]
  },
  {
   "cell_type": "code",
   "execution_count": null,
   "metadata": {},
   "outputs": [],
   "source": []
  }
 ],
 "metadata": {
  "kernelspec": {
   "display_name": "Python 3",
   "language": "python",
   "name": "python3"
  },
  "language_info": {
   "codemirror_mode": {
    "name": "ipython",
    "version": 3
   },
   "file_extension": ".py",
   "mimetype": "text/x-python",
   "name": "python",
   "nbconvert_exporter": "python",
   "pygments_lexer": "ipython3",
   "version": "3.6.9"
  }
 },
 "nbformat": 4,
 "nbformat_minor": 2
}
