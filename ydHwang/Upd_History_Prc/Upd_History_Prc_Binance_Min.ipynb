{
 "cells": [
  {
   "cell_type": "code",
   "execution_count": 2,
   "metadata": {},
   "outputs": [],
   "source": [
    "import glob\n",
    "import pandas as pd\n",
    "import mysql.connector as sql"
   ]
  },
  {
   "cell_type": "code",
   "execution_count": 3,
   "metadata": {},
   "outputs": [],
   "source": [
    "df = pd.read_csv(\"/home/garage/workspace/price_update_crontab/binance_btcusdt_1min.csv\")"
   ]
  },
  {
   "cell_type": "code",
   "execution_count": 4,
   "metadata": {},
   "outputs": [
    {
     "name": "stdout",
     "output_type": "stream",
     "text": [
      "                  timestamp     open    close     high      low     volume\n",
      "130965  2020-04-16 14:51:00  6627.63  6630.13  6630.89  6627.46   8.587378\n",
      "130966  2020-04-16 14:52:00  6630.06  6628.43  6630.10  6624.10  42.420626\n",
      "130967  2020-04-16 14:53:00  6628.43  6628.59  6629.10  6625.15  22.066101\n",
      "130968  2020-04-16 14:54:00  6628.52  6630.20  6630.20  6627.64  17.129700\n",
      "130969  2020-04-16 14:55:00  6630.20  6631.00  6631.00  6630.19   4.388156\n"
     ]
    }
   ],
   "source": [
    "df = df.tail(5)\n",
    "print(df)"
   ]
  },
  {
   "cell_type": "code",
   "execution_count": 5,
   "metadata": {},
   "outputs": [],
   "source": [
    "db_connection = sql.connect(host='root.cqyptexqvznx.ap-northeast-2.rds.amazonaws.com',port=int(3306), database='garage_test', user='root', password='koscom!234')\n",
    "db_cursor = db_connection.cursor()"
   ]
  },
  {
   "cell_type": "code",
   "execution_count": 6,
   "metadata": {},
   "outputs": [
    {
     "name": "stdout",
     "output_type": "stream",
     "text": [
      "INSERT INTO history_prc_binance VALUES('20200416','14:51:00','krwbtc',6627.63,6630.13,6630.89,6627.46,8.587378)\n",
      "INSERT INTO history_prc_binance VALUES('20200416','14:52:00','krwbtc',6630.06,6628.43,6630.1,6624.1,42.420626)\n",
      "INSERT INTO history_prc_binance VALUES('20200416','14:53:00','krwbtc',6628.43,6628.59,6629.1,6625.15,22.066101)\n",
      "INSERT INTO history_prc_binance VALUES('20200416','14:54:00','krwbtc',6628.52,6630.2,6630.2,6627.64,17.1297)\n",
      "INSERT INTO history_prc_binance VALUES('20200416','14:55:00','krwbtc',6630.2,6631.0,6631.0,6630.19,4.3881559999999995)\n"
     ]
    }
   ],
   "source": [
    "for i in range(len(df)):\n",
    "    tmp = str(df.iloc[i]['timestamp']).replace(\"-\",\"\")\n",
    "    tmp = tmp.split(' ')\n",
    "    base_dt = tmp[0]\n",
    "    \n",
    "    coin_type = 'krwbtc'\n",
    "    base_time = tmp[1]\n",
    "    open_price = df.iloc[i]['open']\n",
    "    close_price = df.iloc[i]['close']\n",
    "    high_price = df.iloc[i]['high']\n",
    "    low_price = df.iloc[i]['low']\n",
    "    volumn = df.iloc[i]['volume']\n",
    "\n",
    "    query = \"INSERT INTO history_prc_binance VALUES('{}','{}','{}',{},{},{},{},{})\".format(base_dt,base_time,coin_type,open_price,close_price,high_price,low_price,volumn)\n",
    "    db_cursor.execute(query)\n",
    "    print(query)\n",
    "    \n",
    "db_connection.commit()"
   ]
  },
  {
   "cell_type": "code",
   "execution_count": null,
   "metadata": {},
   "outputs": [],
   "source": []
  }
 ],
 "metadata": {
  "kernelspec": {
   "display_name": "Python 3",
   "language": "python",
   "name": "python3"
  },
  "language_info": {
   "codemirror_mode": {
    "name": "ipython",
    "version": 3
   },
   "file_extension": ".py",
   "mimetype": "text/x-python",
   "name": "python",
   "nbconvert_exporter": "python",
   "pygments_lexer": "ipython3",
   "version": "3.6.9"
  }
 },
 "nbformat": 4,
 "nbformat_minor": 2
}
