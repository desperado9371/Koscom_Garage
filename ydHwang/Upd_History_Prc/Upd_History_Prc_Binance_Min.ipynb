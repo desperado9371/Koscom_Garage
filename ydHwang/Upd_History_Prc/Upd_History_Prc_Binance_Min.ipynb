{
 "cells": [
  {
   "cell_type": "code",
   "execution_count": 2,
   "metadata": {},
   "outputs": [],
   "source": [
    "import mysql.connector as sql\n",
    "import glob\n",
    "import pandas as pd\n"
   ]
  },
  {
   "cell_type": "code",
   "execution_count": 3,
   "metadata": {},
   "outputs": [],
   "source": [
    "df = pd.read_csv(\"/home/garage/workspace/price_update_crontab/binance_btcusdt_1min.csv\")"
   ]
  },
  {
   "cell_type": "code",
   "execution_count": 7,
   "metadata": {},
   "outputs": [
    {
     "name": "stdout",
     "output_type": "stream",
     "text": [
      "                  timestamp     open    close     high      low      volume\n",
      "240758  2020-07-09 11:41:00  9381.84  9381.66  9383.60  9380.58   18.432858\n",
      "240759  2020-07-09 11:42:00  9381.67  9379.98  9381.86  9370.60  103.438722\n",
      "240760  2020-07-09 11:43:00  9379.95  9376.57  9387.72  9376.11  103.735171\n",
      "240761  2020-07-09 11:44:00  9376.62  9374.08  9379.37  9371.34   48.155580\n",
      "240762  2020-07-09 11:45:00  9374.08  9368.92  9374.61  9360.00  129.781510\n",
      "...                     ...      ...      ...      ...      ...         ...\n",
      "240823  2020-07-09 12:46:00  9388.81  9388.88  9388.88  9388.00    5.438517\n",
      "240824  2020-07-09 12:47:00  9388.88  9389.27  9389.98  9388.87   15.928055\n",
      "240825  2020-07-09 12:48:00  9388.97  9390.83  9391.32  9388.87   12.488426\n",
      "240826  2020-07-09 12:49:00  9391.00  9390.15  9392.00  9385.77   39.741276\n",
      "240827  2020-07-09 12:50:00  9389.86  9390.86  9391.82  9389.86    0.280623\n",
      "\n",
      "[70 rows x 6 columns]\n"
     ]
    }
   ],
   "source": [
    "#df = df.tail(3000)\n",
    "print(df)"
   ]
  },
  {
   "cell_type": "code",
   "execution_count": 8,
   "metadata": {},
   "outputs": [],
   "source": [
    "db_connection = sql.connect(host='root.cqyptexqvznx.ap-northeast-2.rds.amazonaws.com',port=int(3306), database='garage_test', user='root', password='koscom!234')\n",
    "db_cursor = db_connection.cursor()"
   ]
  },
  {
   "cell_type": "code",
   "execution_count": 9,
   "metadata": {},
   "outputs": [
    {
     "name": "stdout",
     "output_type": "stream",
     "text": [
      "INSERT INTO history_prc_binance VALUES('20200709','11:41:00','krwbtc',9381.84,9381.66,9383.6,9380.58,18.432858)\n",
      "INSERT INTO history_prc_binance VALUES('20200709','11:42:00','krwbtc',9381.67,9379.98,9381.86,9370.6,103.438722)\n",
      "INSERT INTO history_prc_binance VALUES('20200709','11:43:00','krwbtc',9379.95,9376.57,9387.72,9376.11,103.735171)\n",
      "INSERT INTO history_prc_binance VALUES('20200709','11:44:00','krwbtc',9376.62,9374.08,9379.37,9371.34,48.15558)\n",
      "INSERT INTO history_prc_binance VALUES('20200709','11:45:00','krwbtc',9374.08,9368.92,9374.61,9360.0,129.78151)\n",
      "INSERT INTO history_prc_binance VALUES('20200709','11:46:00','krwbtc',9370.28,9376.73,9377.54,9364.12,90.457758)\n",
      "INSERT INTO history_prc_binance VALUES('20200709','11:47:00','krwbtc',9376.74,9377.99,9378.0,9373.05,78.733717)\n",
      "INSERT INTO history_prc_binance VALUES('20200709','11:48:00','krwbtc',9378.0,9379.97,9381.81,9377.99,34.895187)\n",
      "INSERT INTO history_prc_binance VALUES('20200709','11:49:00','krwbtc',9379.93,9383.75,9385.71,9379.28,30.274909)\n",
      "INSERT INTO history_prc_binance VALUES('20200709','11:50:00','krwbtc',9383.75,9383.0,9383.75,9379.99,34.148428)\n",
      "INSERT INTO history_prc_binance VALUES('20200709','11:51:00','krwbtc',9382.99,9380.82,9389.47,9380.81,60.58389200000001)\n",
      "INSERT INTO history_prc_binance VALUES('20200709','11:52:00','krwbtc',9380.82,9377.23,9383.05,9376.35,18.501727)\n",
      "INSERT INTO history_prc_binance VALUES('20200709','11:53:00','krwbtc',9376.99,9379.02,9379.99,9375.73,14.020749)\n",
      "INSERT INTO history_prc_binance VALUES('20200709','11:54:00','krwbtc',9378.22,9380.99,9382.3,9377.55,31.294134000000003)\n",
      "INSERT INTO history_prc_binance VALUES('20200709','11:55:00','krwbtc',9380.99,9377.48,9381.31,9375.93,32.510965999999996)\n",
      "INSERT INTO history_prc_binance VALUES('20200709','11:56:00','krwbtc',9377.49,9377.28,9378.03,9377.28,9.853023)\n",
      "INSERT INTO history_prc_binance VALUES('20200709','11:57:00','krwbtc',9377.28,9383.42,9384.47,9376.41,26.640812)\n",
      "INSERT INTO history_prc_binance VALUES('20200709','11:58:00','krwbtc',9383.78,9380.56,9384.38,9378.05,29.467416999999998)\n",
      "INSERT INTO history_prc_binance VALUES('20200709','11:59:00','krwbtc',9380.56,9382.5,9385.0,9379.93,36.076254)\n",
      "INSERT INTO history_prc_binance VALUES('20200709','12:00:00','krwbtc',9383.0,9374.19,9383.0,9372.27,30.708592)\n",
      "INSERT INTO history_prc_binance VALUES('20200709','12:01:00','krwbtc',9374.19,9379.41,9379.8,9374.18,61.1653)\n",
      "INSERT INTO history_prc_binance VALUES('20200709','12:02:00','krwbtc',9379.22,9378.34,9380.41,9376.25,13.513069)\n",
      "INSERT INTO history_prc_binance VALUES('20200709','12:03:00','krwbtc',9378.34,9379.3,9379.44,9376.85,12.448094)\n",
      "INSERT INTO history_prc_binance VALUES('20200709','12:04:00','krwbtc',9378.88,9378.7,9380.0,9377.27,25.763782)\n",
      "INSERT INTO history_prc_binance VALUES('20200709','12:05:00','krwbtc',9378.7,9376.1,9378.7,9375.01,17.800355)\n",
      "INSERT INTO history_prc_binance VALUES('20200709','12:06:00','krwbtc',9376.14,9379.56,9379.57,9375.46,12.260081)\n",
      "INSERT INTO history_prc_binance VALUES('20200709','12:07:00','krwbtc',9379.56,9380.69,9381.02,9379.05,10.735804)\n",
      "INSERT INTO history_prc_binance VALUES('20200709','12:08:00','krwbtc',9380.95,9384.7,9384.73,9380.61,21.548892000000002)\n",
      "INSERT INTO history_prc_binance VALUES('20200709','12:09:00','krwbtc',9384.71,9385.0,9385.0,9384.71,21.954292000000002)\n",
      "INSERT INTO history_prc_binance VALUES('20200709','12:10:00','krwbtc',9385.0,9384.83,9388.53,9384.24,15.351664)\n",
      "INSERT INTO history_prc_binance VALUES('20200709','12:11:00','krwbtc',9384.78,9386.47,9386.48,9384.09,8.14545)\n",
      "INSERT INTO history_prc_binance VALUES('20200709','12:12:00','krwbtc',9385.85,9386.81,9386.89,9385.84,14.330707)\n",
      "INSERT INTO history_prc_binance VALUES('20200709','12:13:00','krwbtc',9386.9,9388.61,9388.91,9386.63,23.129872)\n",
      "INSERT INTO history_prc_binance VALUES('20200709','12:14:00','krwbtc',9388.61,9390.18,9390.5,9388.6,20.437077)\n",
      "INSERT INTO history_prc_binance VALUES('20200709','12:15:00','krwbtc',9390.17,9391.26,9391.98,9388.99,20.774874)\n",
      "INSERT INTO history_prc_binance VALUES('20200709','12:16:00','krwbtc',9391.18,9391.65,9392.64,9391.08,15.232354)\n",
      "INSERT INTO history_prc_binance VALUES('20200709','12:17:00','krwbtc',9391.65,9391.17,9392.72,9389.96,30.851688)\n",
      "INSERT INTO history_prc_binance VALUES('20200709','12:18:00','krwbtc',9391.22,9391.07,9392.54,9390.87,9.640474000000001)\n",
      "INSERT INTO history_prc_binance VALUES('20200709','12:19:00','krwbtc',9391.12,9391.28,9392.41,9391.07,8.064399)\n",
      "INSERT INTO history_prc_binance VALUES('20200709','12:20:00','krwbtc',9391.28,9387.06,9391.28,9386.49,35.432644)\n",
      "INSERT INTO history_prc_binance VALUES('20200709','12:21:00','krwbtc',9387.06,9387.21,9388.95,9385.92,15.788456)\n",
      "INSERT INTO history_prc_binance VALUES('20200709','12:22:00','krwbtc',9387.21,9387.18,9388.26,9386.42,13.592132)\n",
      "INSERT INTO history_prc_binance VALUES('20200709','12:23:00','krwbtc',9387.18,9382.79,9387.19,9381.73,26.31584)\n",
      "INSERT INTO history_prc_binance VALUES('20200709','12:24:00','krwbtc',9381.59,9384.55,9385.71,9381.58,19.88758)\n",
      "INSERT INTO history_prc_binance VALUES('20200709','12:25:00','krwbtc',9384.56,9385.64,9387.76,9383.43,17.391076)\n",
      "INSERT INTO history_prc_binance VALUES('20200709','12:26:00','krwbtc',9385.64,9382.13,9385.65,9381.53,15.701344)\n",
      "INSERT INTO history_prc_binance VALUES('20200709','12:27:00','krwbtc',9382.13,9380.02,9383.96,9379.24,20.811881)\n",
      "INSERT INTO history_prc_binance VALUES('20200709','12:28:00','krwbtc',9379.85,9379.86,9382.7,9379.01,11.175309)\n",
      "INSERT INTO history_prc_binance VALUES('20200709','12:29:00','krwbtc',9379.87,9378.01,9380.44,9378.0,10.051321000000002)\n",
      "INSERT INTO history_prc_binance VALUES('20200709','12:30:00','krwbtc',9378.0,9373.31,9378.01,9372.46,20.81994)\n",
      "INSERT INTO history_prc_binance VALUES('20200709','12:31:00','krwbtc',9373.32,9378.29,9379.28,9372.95,36.283705)\n",
      "INSERT INTO history_prc_binance VALUES('20200709','12:32:00','krwbtc',9378.29,9379.27,9380.0,9374.0,28.813434)\n",
      "INSERT INTO history_prc_binance VALUES('20200709','12:33:00','krwbtc',9379.26,9379.88,9379.95,9378.46,11.765029)\n",
      "INSERT INTO history_prc_binance VALUES('20200709','12:34:00','krwbtc',9379.88,9380.53,9381.55,9373.35,103.068892)\n",
      "INSERT INTO history_prc_binance VALUES('20200709','12:35:00','krwbtc',9380.33,9383.87,9384.8,9378.15,25.257016)\n",
      "INSERT INTO history_prc_binance VALUES('20200709','12:36:00','krwbtc',9383.87,9383.89,9385.25,9383.41,11.024083000000001)\n",
      "INSERT INTO history_prc_binance VALUES('20200709','12:37:00','krwbtc',9383.88,9382.72,9383.88,9378.0,12.607227)\n",
      "INSERT INTO history_prc_binance VALUES('20200709','12:38:00','krwbtc',9382.72,9382.74,9384.06,9382.26,6.549224)\n",
      "INSERT INTO history_prc_binance VALUES('20200709','12:39:00','krwbtc',9382.74,9382.59,9382.98,9380.85,14.827016)\n",
      "INSERT INTO history_prc_binance VALUES('20200709','12:40:00','krwbtc',9382.59,9384.0,9385.99,9381.89,22.317814)\n"
     ]
    },
    {
     "ename": "IntegrityError",
     "evalue": "1062 (23000): Duplicate entry '20200709-12:41:00-krwbtc' for key 'PRIMARY'",
     "output_type": "error",
     "traceback": [
      "\u001b[0;31m---------------------------------------------------------------------------\u001b[0m",
      "\u001b[0;31mMySQLInterfaceError\u001b[0m                       Traceback (most recent call last)",
      "\u001b[0;32m/usr/local/lib/python3.6/dist-packages/mysql/connector/connection_cext.py\u001b[0m in \u001b[0;36mcmd_query\u001b[0;34m(self, query, raw, buffered, raw_as_string)\u001b[0m\n\u001b[1;32m    488\u001b[0m                                \u001b[0mraw\u001b[0m\u001b[0;34m=\u001b[0m\u001b[0mraw\u001b[0m\u001b[0;34m,\u001b[0m \u001b[0mbuffered\u001b[0m\u001b[0;34m=\u001b[0m\u001b[0mbuffered\u001b[0m\u001b[0;34m,\u001b[0m\u001b[0;34m\u001b[0m\u001b[0;34m\u001b[0m\u001b[0m\n\u001b[0;32m--> 489\u001b[0;31m                                raw_as_string=raw_as_string)\n\u001b[0m\u001b[1;32m    490\u001b[0m         \u001b[0;32mexcept\u001b[0m \u001b[0mMySQLInterfaceError\u001b[0m \u001b[0;32mas\u001b[0m \u001b[0mexc\u001b[0m\u001b[0;34m:\u001b[0m\u001b[0;34m\u001b[0m\u001b[0;34m\u001b[0m\u001b[0m\n",
      "\u001b[0;31mMySQLInterfaceError\u001b[0m: Duplicate entry '20200709-12:41:00-krwbtc' for key 'PRIMARY'",
      "\nDuring handling of the above exception, another exception occurred:\n",
      "\u001b[0;31mIntegrityError\u001b[0m                            Traceback (most recent call last)",
      "\u001b[0;32m<ipython-input-9-4c31e374625b>\u001b[0m in \u001b[0;36m<module>\u001b[0;34m\u001b[0m\n\u001b[1;32m     13\u001b[0m \u001b[0;34m\u001b[0m\u001b[0m\n\u001b[1;32m     14\u001b[0m     \u001b[0mquery\u001b[0m \u001b[0;34m=\u001b[0m \u001b[0;34m\"INSERT INTO history_prc_binance VALUES('{}','{}','{}',{},{},{},{},{})\"\u001b[0m\u001b[0;34m.\u001b[0m\u001b[0mformat\u001b[0m\u001b[0;34m(\u001b[0m\u001b[0mbase_dt\u001b[0m\u001b[0;34m,\u001b[0m\u001b[0mbase_time\u001b[0m\u001b[0;34m,\u001b[0m\u001b[0mcoin_type\u001b[0m\u001b[0;34m,\u001b[0m\u001b[0mopen_price\u001b[0m\u001b[0;34m,\u001b[0m\u001b[0mclose_price\u001b[0m\u001b[0;34m,\u001b[0m\u001b[0mhigh_price\u001b[0m\u001b[0;34m,\u001b[0m\u001b[0mlow_price\u001b[0m\u001b[0;34m,\u001b[0m\u001b[0mvolumn\u001b[0m\u001b[0;34m)\u001b[0m\u001b[0;34m\u001b[0m\u001b[0;34m\u001b[0m\u001b[0m\n\u001b[0;32m---> 15\u001b[0;31m     \u001b[0mdb_cursor\u001b[0m\u001b[0;34m.\u001b[0m\u001b[0mexecute\u001b[0m\u001b[0;34m(\u001b[0m\u001b[0mquery\u001b[0m\u001b[0;34m)\u001b[0m\u001b[0;34m\u001b[0m\u001b[0;34m\u001b[0m\u001b[0m\n\u001b[0m\u001b[1;32m     16\u001b[0m     \u001b[0mprint\u001b[0m\u001b[0;34m(\u001b[0m\u001b[0mquery\u001b[0m\u001b[0;34m)\u001b[0m\u001b[0;34m\u001b[0m\u001b[0;34m\u001b[0m\u001b[0m\n\u001b[1;32m     17\u001b[0m \u001b[0;34m\u001b[0m\u001b[0m\n",
      "\u001b[0;32m/usr/local/lib/python3.6/dist-packages/mysql/connector/cursor_cext.py\u001b[0m in \u001b[0;36mexecute\u001b[0;34m(self, operation, params, multi)\u001b[0m\n\u001b[1;32m    264\u001b[0m             result = self._cnx.cmd_query(stmt, raw=self._raw,\n\u001b[1;32m    265\u001b[0m                                          \u001b[0mbuffered\u001b[0m\u001b[0;34m=\u001b[0m\u001b[0mself\u001b[0m\u001b[0;34m.\u001b[0m\u001b[0m_buffered\u001b[0m\u001b[0;34m,\u001b[0m\u001b[0;34m\u001b[0m\u001b[0;34m\u001b[0m\u001b[0m\n\u001b[0;32m--> 266\u001b[0;31m                                          raw_as_string=self._raw_as_string)\n\u001b[0m\u001b[1;32m    267\u001b[0m         \u001b[0;32mexcept\u001b[0m \u001b[0mMySQLInterfaceError\u001b[0m \u001b[0;32mas\u001b[0m \u001b[0mexc\u001b[0m\u001b[0;34m:\u001b[0m\u001b[0;34m\u001b[0m\u001b[0;34m\u001b[0m\u001b[0m\n\u001b[1;32m    268\u001b[0m             raise errors.get_mysql_exception(msg=exc.msg, errno=exc.errno,\n",
      "\u001b[0;32m/usr/local/lib/python3.6/dist-packages/mysql/connector/connection_cext.py\u001b[0m in \u001b[0;36mcmd_query\u001b[0;34m(self, query, raw, buffered, raw_as_string)\u001b[0m\n\u001b[1;32m    490\u001b[0m         \u001b[0;32mexcept\u001b[0m \u001b[0mMySQLInterfaceError\u001b[0m \u001b[0;32mas\u001b[0m \u001b[0mexc\u001b[0m\u001b[0;34m:\u001b[0m\u001b[0;34m\u001b[0m\u001b[0;34m\u001b[0m\u001b[0m\n\u001b[1;32m    491\u001b[0m             raise errors.get_mysql_exception(exc.errno, msg=exc.msg,\n\u001b[0;32m--> 492\u001b[0;31m                                              sqlstate=exc.sqlstate)\n\u001b[0m\u001b[1;32m    493\u001b[0m         \u001b[0;32mexcept\u001b[0m \u001b[0mAttributeError\u001b[0m\u001b[0;34m:\u001b[0m\u001b[0;34m\u001b[0m\u001b[0;34m\u001b[0m\u001b[0m\n\u001b[1;32m    494\u001b[0m             \u001b[0;32mif\u001b[0m \u001b[0mself\u001b[0m\u001b[0;34m.\u001b[0m\u001b[0m_unix_socket\u001b[0m\u001b[0;34m:\u001b[0m\u001b[0;34m\u001b[0m\u001b[0;34m\u001b[0m\u001b[0m\n",
      "\u001b[0;31mIntegrityError\u001b[0m: 1062 (23000): Duplicate entry '20200709-12:41:00-krwbtc' for key 'PRIMARY'"
     ]
    }
   ],
   "source": [
    "for i in range(len(df)):\n",
    "    tmp = str(df.iloc[i]['timestamp']).replace(\"-\",\"\")\n",
    "    tmp = tmp.split(' ')\n",
    "    base_dt = tmp[0]\n",
    "    \n",
    "    coin_type = 'krwbtc'\n",
    "    base_time = tmp[1]\n",
    "    open_price = df.iloc[i]['open']\n",
    "    close_price = df.iloc[i]['close']\n",
    "    high_price = df.iloc[i]['high']\n",
    "    low_price = df.iloc[i]['low']\n",
    "    volumn = df.iloc[i]['volume']\n",
    "\n",
    "    query = \"INSERT INTO history_prc_binance VALUES('{}','{}','{}',{},{},{},{},{})\".format(base_dt,base_time,coin_type,open_price,close_price,high_price,low_price,volumn)\n",
    "    db_cursor.execute(query)\n",
    "    print(query)\n",
    "    \n",
    "db_connection.commit()\n",
    "db_connection.close()"
   ]
  },
  {
   "cell_type": "code",
   "execution_count": null,
   "metadata": {},
   "outputs": [],
   "source": []
  }
 ],
 "metadata": {
  "kernelspec": {
   "display_name": "Python 3",
   "language": "python",
   "name": "python3"
  },
  "language_info": {
   "codemirror_mode": {
    "name": "ipython",
    "version": 3
   },
   "file_extension": ".py",
   "mimetype": "text/x-python",
   "name": "python",
   "nbconvert_exporter": "python",
   "pygments_lexer": "ipython3",
   "version": "3.6.9"
  }
 },
 "nbformat": 4,
 "nbformat_minor": 2
}
