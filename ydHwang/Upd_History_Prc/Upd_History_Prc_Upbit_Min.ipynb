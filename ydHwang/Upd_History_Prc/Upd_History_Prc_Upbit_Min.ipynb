{
 "cells": [
  {
   "cell_type": "code",
   "execution_count": 2,
   "metadata": {},
   "outputs": [],
   "source": [
    "import glob\n",
    "import pandas as pd\n",
    "import mysql.connector as sql"
   ]
  },
  {
   "cell_type": "code",
   "execution_count": 3,
   "metadata": {},
   "outputs": [],
   "source": [
    "df = pd.read_csv(\"/home/garage/workspace/price_update_crontab/upbit_krwbtc_1min.csv\")"
   ]
  },
  {
   "cell_type": "code",
   "execution_count": 4,
   "metadata": {},
   "outputs": [
    {
     "name": "stdout",
     "output_type": "stream",
     "text": [
      "                   timestamp       open      close       high        low  \\\n",
      "1214773  2020-03-09T13:55:00  9698000.0  9680000.0  9707000.0  9680000.0   \n",
      "1214774  2020-03-09T13:56:00  9680000.0  9676000.0  9680000.0  9672000.0   \n",
      "1214775  2020-03-09T13:57:00  9676000.0  9688000.0  9696000.0  9675000.0   \n",
      "1214776  2020-03-09T13:58:00  9682000.0  9680000.0  9694000.0  9680000.0   \n",
      "1214777  2020-03-09T13:59:00  9688000.0  9699000.0  9701000.0  9680000.0   \n",
      "\n",
      "            volume  \n",
      "1214773  16.413761  \n",
      "1214774   9.498444  \n",
      "1214775   3.332564  \n",
      "1214776   5.301427  \n",
      "1214777   3.908534  \n"
     ]
    }
   ],
   "source": [
    "df = df.tail(5)\n",
    "print(df)"
   ]
  },
  {
   "cell_type": "code",
   "execution_count": 5,
   "metadata": {},
   "outputs": [],
   "source": [
    "db_connection = sql.connect(host='root.cqyptexqvznx.ap-northeast-2.rds.amazonaws.com',port=int(3306), database='garage_test', user='root', password='koscom!234')\n",
    "db_cursor = db_connection.cursor()"
   ]
  },
  {
   "cell_type": "code",
   "execution_count": 7,
   "metadata": {},
   "outputs": [
    {
     "name": "stdout",
     "output_type": "stream",
     "text": [
      "INSERT INTO history_prc_upbit VALUES('20200309','13:55:00','krwbtc',9698000.0,9680000.0,9707000.0,9680000.0,16.413760800000002)\n",
      "INSERT INTO history_prc_upbit VALUES('20200309','13:56:00','krwbtc',9680000.0,9676000.0,9680000.0,9672000.0,9.49844425)\n",
      "INSERT INTO history_prc_upbit VALUES('20200309','13:57:00','krwbtc',9676000.0,9688000.0,9696000.0,9675000.0,3.33256388)\n",
      "INSERT INTO history_prc_upbit VALUES('20200309','13:58:00','krwbtc',9682000.0,9680000.0,9694000.0,9680000.0,5.3014268)\n",
      "INSERT INTO history_prc_upbit VALUES('20200309','13:59:00','krwbtc',9688000.0,9699000.0,9701000.0,9680000.0,3.90853367)\n"
     ]
    }
   ],
   "source": [
    "for i in range(len(df)):\n",
    "    tmp = str(df.iloc[i]['timestamp']).replace(\"-\",\"\")\n",
    "    tmp = tmp.split('T')\n",
    "    base_dt = tmp[0]\n",
    "    \n",
    "    coin_type = 'krwbtc'\n",
    "    base_time = tmp[1]\n",
    "    open_price = df.iloc[i]['open']\n",
    "    close_price = df.iloc[i]['close']\n",
    "    high_price = df.iloc[i]['high']\n",
    "    low_price = df.iloc[i]['low']\n",
    "    volumn = df.iloc[i]['volume']\n",
    "\n",
    "    query = \"INSERT INTO history_prc_upbit VALUES('{}','{}','{}',{},{},{},{},{})\".format(base_dt,base_time,coin_type,open_price,close_price,high_price,low_price,volumn)\n",
    "    db_cursor.execute(query)\n",
    "    print(query)\n",
    "    \n",
    "db_connection.commit()"
   ]
  },
  {
   "cell_type": "code",
   "execution_count": null,
   "metadata": {},
   "outputs": [],
   "source": []
  }
 ],
 "metadata": {
  "kernelspec": {
   "display_name": "Python 3",
   "language": "python",
   "name": "python3"
  },
  "language_info": {
   "codemirror_mode": {
    "name": "ipython",
    "version": 3
   },
   "file_extension": ".py",
   "mimetype": "text/x-python",
   "name": "python",
   "nbconvert_exporter": "python",
   "pygments_lexer": "ipython3",
   "version": "3.6.9"
  }
 },
 "nbformat": 4,
 "nbformat_minor": 2
}
