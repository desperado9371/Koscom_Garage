{
 "cells": [
  {
   "cell_type": "code",
   "execution_count": 90,
   "metadata": {},
   "outputs": [],
   "source": [
    "import mysql.connector as sql\n",
    "import glob\n",
    "import pandas as pd\n",
    "from datetime import datetime"
   ]
  },
  {
   "cell_type": "code",
   "execution_count": 91,
   "metadata": {},
   "outputs": [],
   "source": [
    "df = pd.read_csv(\"/home/garage/workspace/price_update_crontab/upbit_krwbch_1min.csv\")"
   ]
  },
  {
   "cell_type": "code",
   "execution_count": 92,
   "metadata": {},
   "outputs": [
    {
     "name": "stdout",
     "output_type": "stream",
     "text": [
      "                timestamp      open     close      high       low    volume\n",
      "1408  2020-09-18T09:43:00  271950.0  271950.0  271950.0  271950.0  1.339141\n",
      "1409  2020-09-18T09:44:00  272000.0  272000.0  272000.0  272000.0  8.014833\n",
      "1410  2020-09-18T09:45:00  272200.0  272400.0  272400.0  272200.0  8.077309\n",
      "1411  2020-09-18T09:46:00  272400.0  272400.0  272400.0  272400.0  1.837297\n",
      "1412  2020-09-18T09:47:00  272000.0  272000.0  272000.0  272000.0  4.262171\n",
      "1413  2020-09-18T09:49:00  272500.0  272500.0  272500.0  272500.0  2.203790\n",
      "1414  2020-09-18T09:50:00  272450.0  272450.0  272450.0  272450.0  7.340796\n",
      "1415  2020-09-18T09:51:00  272600.0  272600.0  272600.0  272600.0  0.898549\n",
      "1416  2020-09-18T09:52:00  272550.0  272500.0  272550.0  272500.0  7.973261\n",
      "1417  2020-09-18T09:53:00  272250.0  272250.0  272250.0  272250.0  2.898549\n"
     ]
    }
   ],
   "source": [
    "df = df.tail(11)\n",
    "print(df)"
   ]
  },
  {
   "cell_type": "code",
   "execution_count": 93,
   "metadata": {},
   "outputs": [],
   "source": [
    "db_connection = sql.connect(host='root.cqyptexqvznx.ap-northeast-2.rds.amazonaws.com',port=int(3306), database='garage_test', user='root', password='koscom!234')\n",
    "db_cursor = db_connection.cursor()"
   ]
  },
  {
   "cell_type": "code",
   "execution_count": 94,
   "metadata": {},
   "outputs": [
    {
     "name": "stdout",
     "output_type": "stream",
     "text": [
      "20200918\n",
      "09:53:00\n"
     ]
    }
   ],
   "source": [
    "\n",
    "query = 'SELECT max(base_time) FROM history_prc_upbit WHERE base_dt = %s and coin_type = %s'\n",
    "db_cursor.execute(query,(datetime.today().strftime(\"%Y%m%d\"),'bch',))\n",
    "print(datetime.today().strftime(\"%Y%m%d\"))\n",
    "max_time = db_cursor.fetchone()[0]\n",
    "print(max_time)\n"
   ]
  },
  {
   "cell_type": "code",
   "execution_count": 95,
   "metadata": {},
   "outputs": [],
   "source": [
    "for i in range(len(df)):\n",
    "    tmp = str(df.iloc[i]['timestamp']).replace(\"-\",\"\")\n",
    "    tmp = tmp.split('T')\n",
    "    if max_time >= tmp[1] :\n",
    "        continue\n",
    "    base_dt = tmp[0]\n",
    "    coin_type = 'bch'\n",
    "    base_time = tmp[1]\n",
    "    print(base_time)\n",
    "    open_price = df.iloc[i]['open']\n",
    "    close_price = df.iloc[i]['close']\n",
    "    high_price = df.iloc[i]['high']\n",
    "    low_price = df.iloc[i]['low']\n",
    "    volumn = df.iloc[i]['volume']\n",
    "\n",
    "    query = \"INSERT INTO history_prc_upbit VALUES('{}','{}','{}',{},{},{},{},{})\".format(base_dt,base_time,coin_type,open_price,close_price,high_price,low_price,volumn)\n",
    "    db_cursor.execute(query)\n",
    "    print(query)\n",
    "    db_connection.commit()\n",
    "\n",
    "db_connection.close()"
   ]
  },
  {
   "cell_type": "code",
   "execution_count": null,
   "metadata": {},
   "outputs": [],
   "source": []
  }
 ],
 "metadata": {
  "kernelspec": {
   "display_name": "Python 3",
   "language": "python",
   "name": "python3"
  },
  "language_info": {
   "codemirror_mode": {
    "name": "ipython",
    "version": 3
   },
   "file_extension": ".py",
   "mimetype": "text/x-python",
   "name": "python",
   "nbconvert_exporter": "python",
   "pygments_lexer": "ipython3",
   "version": "3.6.9"
  }
 },
 "nbformat": 4,
 "nbformat_minor": 2
}
