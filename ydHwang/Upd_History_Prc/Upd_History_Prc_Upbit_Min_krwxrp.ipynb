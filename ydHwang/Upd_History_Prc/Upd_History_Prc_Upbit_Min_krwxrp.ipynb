{
 "cells": [
  {
   "cell_type": "code",
   "execution_count": 34,
   "metadata": {},
   "outputs": [],
   "source": [
    "import mysql.connector as sql\n",
    "import glob\n",
    "import pandas as pd\n",
    "from datetime import datetime"
   ]
  },
  {
   "cell_type": "code",
   "execution_count": 35,
   "metadata": {},
   "outputs": [],
   "source": [
    "df = pd.read_csv(\"/home/garage/workspace/price_update_crontab/upbit_krwxrp_1min.csv\")"
   ]
  },
  {
   "cell_type": "code",
   "execution_count": 36,
   "metadata": {},
   "outputs": [
    {
     "name": "stdout",
     "output_type": "stream",
     "text": [
      "                timestamp   open  close   high    low        volume\n",
      "1566  2020-09-18T09:54:00  295.0  295.0  295.0  294.0  10196.197525\n",
      "1567  2020-09-18T09:55:00  294.0  295.0  295.0  294.0   2346.182616\n",
      "1568  2020-09-18T09:56:00  294.0  295.0  295.0  294.0    206.311812\n",
      "1569  2020-09-18T09:57:00  294.0  295.0  295.0  294.0  15257.326478\n",
      "1570  2020-09-18T09:58:00  294.0  295.0  295.0  294.0   9333.341988\n",
      "1571  2020-09-18T09:59:00  295.0  294.0  295.0  294.0  30251.136929\n",
      "1572  2020-09-18T10:00:00  294.0  295.0  295.0  294.0   8732.218519\n",
      "1573  2020-09-18T10:01:00  295.0  295.0  295.0  294.0   8064.359638\n",
      "1574  2020-09-18T10:02:00  295.0  295.0  295.0  294.0  37692.301416\n",
      "1575  2020-09-18T10:03:00  295.0  295.0  295.0  295.0      0.595555\n"
     ]
    }
   ],
   "source": [
    "df = df.tail(11)\n",
    "print(df)"
   ]
  },
  {
   "cell_type": "code",
   "execution_count": 37,
   "metadata": {},
   "outputs": [],
   "source": [
    "db_connection = sql.connect(host='root.cqyptexqvznx.ap-northeast-2.rds.amazonaws.com',port=int(3306), database='garage_test', user='root', password='koscom!234')\n",
    "db_cursor = db_connection.cursor()"
   ]
  },
  {
   "cell_type": "code",
   "execution_count": 38,
   "metadata": {},
   "outputs": [
    {
     "name": "stdout",
     "output_type": "stream",
     "text": [
      "20200918\n",
      "10:03:00\n"
     ]
    }
   ],
   "source": [
    "\n",
    "query = 'SELECT max(base_time) FROM history_prc_upbit WHERE base_dt = %s and coin_type = %s'\n",
    "db_cursor.execute(query,(datetime.today().strftime(\"%Y%m%d\"),'xrp',))\n",
    "print(datetime.today().strftime(\"%Y%m%d\"))\n",
    "max_time = db_cursor.fetchone()[0]\n",
    "print(max_time)\n"
   ]
  },
  {
   "cell_type": "code",
   "execution_count": 39,
   "metadata": {},
   "outputs": [],
   "source": [
    "for i in range(len(df)):\n",
    "    tmp = str(df.iloc[i]['timestamp']).replace(\"-\",\"\")\n",
    "    tmp = tmp.split('T')\n",
    "    base_dt = tmp[0] \n",
    "    coin_type = 'xrp'\n",
    "    base_time = tmp[1]\n",
    "    if max_time >= tmp[1] :\n",
    "        continue  \n",
    "        \n",
    "    open_price = df.iloc[i]['open']\n",
    "    close_price = df.iloc[i]['close']\n",
    "    high_price = df.iloc[i]['high']\n",
    "    low_price = df.iloc[i]['low']\n",
    "    volumn = df.iloc[i]['volume']\n",
    "\n",
    "    query = \"INSERT INTO history_prc_upbit VALUES('{}','{}','{}',{},{},{},{},{})\".format(base_dt,base_time,coin_type,open_price,close_price,high_price,low_price,volumn)\n",
    "    db_cursor.execute(query)\n",
    "    print(query)\n",
    "    \n",
    "db_connection.commit()\n",
    "db_connection.close()"
   ]
  },
  {
   "cell_type": "code",
   "execution_count": null,
   "metadata": {},
   "outputs": [],
   "source": []
  }
 ],
 "metadata": {
  "kernelspec": {
   "display_name": "Python 3",
   "language": "python",
   "name": "python3"
  },
  "language_info": {
   "codemirror_mode": {
    "name": "ipython",
    "version": 3
   },
   "file_extension": ".py",
   "mimetype": "text/x-python",
   "name": "python",
   "nbconvert_exporter": "python",
   "pygments_lexer": "ipython3",
   "version": "3.6.9"
  }
 },
 "nbformat": 4,
 "nbformat_minor": 2
}
