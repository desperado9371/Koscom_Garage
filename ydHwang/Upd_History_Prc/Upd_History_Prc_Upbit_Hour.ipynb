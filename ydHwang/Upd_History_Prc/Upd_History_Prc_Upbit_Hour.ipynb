{
 "cells": [
  {
   "cell_type": "code",
   "execution_count": 1,
   "metadata": {},
   "outputs": [],
   "source": [
    "import mysql.connector as sql\n",
    "import glob\n",
    "import pandas as pd\n"
   ]
  },
  {
   "cell_type": "code",
   "execution_count": 16,
   "metadata": {},
   "outputs": [
    {
     "name": "stdout",
     "output_type": "stream",
     "text": [
      "                 timestamp        open       close        high         low  \\\n",
      "14934  2020-07-06T11:00:00  10832000.0  10840000.0  10870000.0  10832000.0   \n",
      "14935  2020-07-06T12:00:00  10840000.0  10831000.0  10844000.0  10818000.0   \n",
      "14936  2020-07-06T13:00:00  10831000.0  10828000.0  10837000.0  10814000.0   \n",
      "14937  2020-07-06T14:00:00  10828000.0  10836000.0  10854000.0  10818000.0   \n",
      "14938  2020-07-06T15:00:00  10854000.0  10983000.0  10984000.0  10837000.0   \n",
      "...                    ...         ...         ...         ...         ...   \n",
      "15003  2020-07-09T08:00:00  11165000.0  11138000.0  11167000.0  11122000.0   \n",
      "15004  2020-07-09T09:00:00  11135000.0  11126000.0  11147000.0  11113000.0   \n",
      "15005  2020-07-09T10:00:00  11127000.0  11075000.0  11135000.0  11059000.0   \n",
      "15006  2020-07-09T11:00:00  11079000.0  11076000.0  11097000.0  11052000.0   \n",
      "15007  2020-07-09T12:00:00  11078000.0  11088000.0  11097000.0  11076000.0   \n",
      "\n",
      "           volume  \n",
      "14934   87.772956  \n",
      "14935   62.043779  \n",
      "14936   67.856632  \n",
      "14937   82.491368  \n",
      "14938  476.108802  \n",
      "...           ...  \n",
      "15003  108.846861  \n",
      "15004  111.661656  \n",
      "15005  171.394752  \n",
      "15006  198.177974  \n",
      "15007   27.045213  \n",
      "\n",
      "[74 rows x 6 columns]\n"
     ]
    }
   ],
   "source": [
    "df = pd.read_csv(\"/home/garage/workspace/price_update_crontab/upbit_krwbtc_1hr.csv\")\n",
    "df = df.tail(74)\n",
    "print(df)"
   ]
  },
  {
   "cell_type": "code",
   "execution_count": 14,
   "metadata": {},
   "outputs": [
    {
     "name": "stdout",
     "output_type": "stream",
     "text": [
      "INSERT INTO history_hr_prc_upbit VALUES('20200706','10:00:00','krwbtc',10809000.0,10828000.0,10832000.0,10806000.0,49.25896986)\n"
     ]
    }
   ],
   "source": [
    "db_connection = sql.connect(host='root.cqyptexqvznx.ap-northeast-2.rds.amazonaws.com',port=int(3306), database='garage_test', user='root', password='koscom!234')\n",
    "db_cursor = db_connection.cursor()\n",
    "\n",
    "tmp = str(df.iloc[0]['timestamp']).replace(\"-\",\"\")\n",
    "tmp = tmp.split('T')\n",
    "base_dt = tmp[0]\n",
    "\n",
    "coin_type = 'krwbtc'\n",
    "base_time = tmp[1]\n",
    "open_price = df.iloc[0]['open']\n",
    "close_price = df.iloc[0]['close']\n",
    "high_price = df.iloc[0]['high']\n",
    "low_price = df.iloc[0]['low']\n",
    "volumn = df.iloc[0]['volume']\n",
    "\n",
    "query = \"INSERT INTO history_hr_prc_upbit VALUES('{}','{}','{}',{},{},{},{},{})\".format(base_dt,base_time,coin_type,open_price,close_price,high_price,low_price,volumn)\n",
    "db_cursor.execute(query)\n",
    "print(query)\n",
    "    \n",
    "db_connection.commit()"
   ]
  },
  {
   "cell_type": "code",
   "execution_count": 17,
   "metadata": {},
   "outputs": [
    {
     "name": "stdout",
     "output_type": "stream",
     "text": [
      "INSERT INTO history_hr_prc_upbit VALUES('20200706','11:00:00','krwbtc',10832000.0,10840000.0,10870000.0,10832000.0,87.77295564)\n",
      "INSERT INTO history_hr_prc_upbit VALUES('20200706','12:00:00','krwbtc',10840000.0,10831000.0,10844000.0,10818000.0,62.04377884)\n",
      "INSERT INTO history_hr_prc_upbit VALUES('20200706','13:00:00','krwbtc',10831000.0,10828000.0,10837000.0,10814000.0,67.85663222)\n",
      "INSERT INTO history_hr_prc_upbit VALUES('20200706','14:00:00','krwbtc',10828000.0,10836000.0,10854000.0,10818000.0,82.4913679)\n",
      "INSERT INTO history_hr_prc_upbit VALUES('20200706','15:00:00','krwbtc',10854000.0,10983000.0,10984000.0,10837000.0,476.10880176)\n",
      "INSERT INTO history_hr_prc_upbit VALUES('20200706','16:00:00','krwbtc',10980000.0,10942000.0,10991000.0,10930000.0,165.21698093)\n",
      "INSERT INTO history_hr_prc_upbit VALUES('20200706','17:00:00','krwbtc',10945000.0,10940000.0,10954000.0,10928000.0,162.09686216)\n",
      "INSERT INTO history_hr_prc_upbit VALUES('20200706','18:00:00','krwbtc',10947000.0,10941000.0,10954000.0,10928000.0,78.29308866)\n",
      "INSERT INTO history_hr_prc_upbit VALUES('20200706','19:00:00','krwbtc',10941000.0,10923000.0,10950000.0,10923000.0,92.57186893)\n",
      "INSERT INTO history_hr_prc_upbit VALUES('20200706','20:00:00','krwbtc',10929000.0,10948000.0,10951000.0,10907000.0,108.39990499)\n",
      "INSERT INTO history_hr_prc_upbit VALUES('20200706','21:00:00','krwbtc',10948000.0,11006000.0,11023000.0,10922000.0,192.85643815)\n",
      "INSERT INTO history_hr_prc_upbit VALUES('20200706','22:00:00','krwbtc',11008000.0,10998000.0,11020000.0,10976000.0,167.06422564)\n",
      "INSERT INTO history_hr_prc_upbit VALUES('20200706','23:00:00','krwbtc',11008000.0,10986000.0,11008000.0,10972000.0,92.29922898)\n",
      "INSERT INTO history_hr_prc_upbit VALUES('20200707','00:00:00','krwbtc',10995000.0,11050000.0,11064000.0,10982000.0,212.81010176)\n",
      "INSERT INTO history_hr_prc_upbit VALUES('20200707','01:00:00','krwbtc',11050000.0,11064000.0,11100000.0,11045000.0,241.17425693)\n",
      "INSERT INTO history_hr_prc_upbit VALUES('20200707','02:00:00','krwbtc',11062000.0,11064000.0,11064000.0,11044000.0,42.42880968)\n",
      "INSERT INTO history_hr_prc_upbit VALUES('20200707','03:00:00','krwbtc',11063000.0,11041000.0,11064000.0,11041000.0,16.02631795)\n",
      "INSERT INTO history_hr_prc_upbit VALUES('20200707','04:00:00','krwbtc',11043000.0,11030000.0,11053000.0,11020000.0,27.82139008)\n",
      "INSERT INTO history_hr_prc_upbit VALUES('20200707','05:00:00','krwbtc',11030000.0,10996000.0,11040000.0,10990000.0,53.70190063)\n",
      "INSERT INTO history_hr_prc_upbit VALUES('20200707','06:00:00','krwbtc',10997000.0,11007000.0,11018000.0,10986000.0,75.54327878)\n",
      "INSERT INTO history_hr_prc_upbit VALUES('20200707','07:00:00','krwbtc',11006000.0,11014000.0,11016000.0,10993000.0,74.88862135)\n",
      "INSERT INTO history_hr_prc_upbit VALUES('20200707','08:00:00','krwbtc',11013000.0,11065000.0,11102000.0,11013000.0,162.20546962)\n",
      "INSERT INTO history_hr_prc_upbit VALUES('20200707','09:00:00','krwbtc',11065000.0,11028000.0,11094000.0,11026000.0,159.50533280000005)\n",
      "INSERT INTO history_hr_prc_upbit VALUES('20200707','10:00:00','krwbtc',11028000.0,11008000.0,11028000.0,10994000.0,137.74700021)\n",
      "INSERT INTO history_hr_prc_upbit VALUES('20200707','11:00:00','krwbtc',11008000.0,10989000.0,11017000.0,10962000.0,132.11944819)\n",
      "INSERT INTO history_hr_prc_upbit VALUES('20200707','12:00:00','krwbtc',10990000.0,11014000.0,11060000.0,10986000.0,124.42233475)\n",
      "INSERT INTO history_hr_prc_upbit VALUES('20200707','13:00:00','krwbtc',11018000.0,11000000.0,11097000.0,11000000.0,128.29530058)\n",
      "INSERT INTO history_hr_prc_upbit VALUES('20200707','14:00:00','krwbtc',11006000.0,10996000.0,11012000.0,10972000.0,110.3578907)\n",
      "INSERT INTO history_hr_prc_upbit VALUES('20200707','15:00:00','krwbtc',11000000.0,10996000.0,11019000.0,10963000.0,165.07850276)\n",
      "INSERT INTO history_hr_prc_upbit VALUES('20200707','16:00:00','krwbtc',11012000.0,10980000.0,11012000.0,10965000.0,77.69849088)\n",
      "INSERT INTO history_hr_prc_upbit VALUES('20200707','17:00:00','krwbtc',10975000.0,10979000.0,11001000.0,10970000.0,67.44986931)\n",
      "INSERT INTO history_hr_prc_upbit VALUES('20200707','18:00:00','krwbtc',10985000.0,10970000.0,10986000.0,10964000.0,75.08026139)\n",
      "INSERT INTO history_hr_prc_upbit VALUES('20200707','19:00:00','krwbtc',10971000.0,10975000.0,10982000.0,10964000.0,51.76226981)\n",
      "INSERT INTO history_hr_prc_upbit VALUES('20200707','20:00:00','krwbtc',10966000.0,10970000.0,10988000.0,10952000.0,73.8824405)\n",
      "INSERT INTO history_hr_prc_upbit VALUES('20200707','21:00:00','krwbtc',10970000.0,11000000.0,11013000.0,10970000.0,59.97896267)\n",
      "INSERT INTO history_hr_prc_upbit VALUES('20200707','22:00:00','krwbtc',11000000.0,10996000.0,11007000.0,10963000.0,97.81733607)\n",
      "INSERT INTO history_hr_prc_upbit VALUES('20200707','23:00:00','krwbtc',10990000.0,10968000.0,11014000.0,10968000.0,86.27423906)\n",
      "INSERT INTO history_hr_prc_upbit VALUES('20200708','00:00:00','krwbtc',10968000.0,11001000.0,11001000.0,10968000.0,31.27235177)\n",
      "INSERT INTO history_hr_prc_upbit VALUES('20200708','01:00:00','krwbtc',11001000.0,10992000.0,11029000.0,10982000.0,71.07924436)\n",
      "INSERT INTO history_hr_prc_upbit VALUES('20200708','02:00:00','krwbtc',11008000.0,11015000.0,11015000.0,10981000.0,25.25550267)\n",
      "INSERT INTO history_hr_prc_upbit VALUES('20200708','03:00:00','krwbtc',11002000.0,10993000.0,11018000.0,10980000.0,23.2496594)\n",
      "INSERT INTO history_hr_prc_upbit VALUES('20200708','04:00:00','krwbtc',10993000.0,10970000.0,11006000.0,10970000.0,11.29843521)\n",
      "INSERT INTO history_hr_prc_upbit VALUES('20200708','05:00:00','krwbtc',10970000.0,10994000.0,10994000.0,10956000.0,29.24730131)\n",
      "INSERT INTO history_hr_prc_upbit VALUES('20200708','06:00:00','krwbtc',10995000.0,10985000.0,10997000.0,10967000.0,21.08798643)\n",
      "INSERT INTO history_hr_prc_upbit VALUES('20200708','07:00:00','krwbtc',10985000.0,10990000.0,10994000.0,10969000.0,38.32991551)\n",
      "INSERT INTO history_hr_prc_upbit VALUES('20200708','08:00:00','krwbtc',10990000.0,10988000.0,11000000.0,10973000.0,30.22705705)\n",
      "INSERT INTO history_hr_prc_upbit VALUES('20200708','09:00:00','krwbtc',10988000.0,10976000.0,10996000.0,10968000.0,65.70351646)\n",
      "INSERT INTO history_hr_prc_upbit VALUES('20200708','10:00:00','krwbtc',10987000.0,11020000.0,11034000.0,10970000.0,151.11491131)\n",
      "INSERT INTO history_hr_prc_upbit VALUES('20200708','11:00:00','krwbtc',11020000.0,11027000.0,11052000.0,11018000.0,180.9361709)\n",
      "INSERT INTO history_hr_prc_upbit VALUES('20200708','12:00:00','krwbtc',11027000.0,11010000.0,11038000.0,11000000.0,147.63750451)\n",
      "INSERT INTO history_hr_prc_upbit VALUES('20200708','13:00:00','krwbtc',11010000.0,10983000.0,11019000.0,10970000.0,234.3062449)\n",
      "INSERT INTO history_hr_prc_upbit VALUES('20200708','14:00:00','krwbtc',10981000.0,11000000.0,11013000.0,10981000.0,149.94873196)\n",
      "INSERT INTO history_hr_prc_upbit VALUES('20200708','15:00:00','krwbtc',11000000.0,10994000.0,11019000.0,10989000.0,118.89341734)\n",
      "INSERT INTO history_hr_prc_upbit VALUES('20200708','16:00:00','krwbtc',10994000.0,11009000.0,11027000.0,10992000.0,224.35067479)\n",
      "INSERT INTO history_hr_prc_upbit VALUES('20200708','17:00:00','krwbtc',11009000.0,10999000.0,11018000.0,10992000.0,101.14530467)\n",
      "INSERT INTO history_hr_prc_upbit VALUES('20200708','18:00:00','krwbtc',10997000.0,10988000.0,11010000.0,10985000.0,111.24693882)\n",
      "INSERT INTO history_hr_prc_upbit VALUES('20200708','19:00:00','krwbtc',10988000.0,11002000.0,11019000.0,10988000.0,101.74201976)\n",
      "INSERT INTO history_hr_prc_upbit VALUES('20200708','20:00:00','krwbtc',11002000.0,11020000.0,11030000.0,11001000.0,93.71539951)\n",
      "INSERT INTO history_hr_prc_upbit VALUES('20200708','21:00:00','krwbtc',11020000.0,11022000.0,11099000.0,11007000.0,345.6256708)\n",
      "INSERT INTO history_hr_prc_upbit VALUES('20200708','22:00:00','krwbtc',11022000.0,11174000.0,11185000.0,11021000.0,334.37123881)\n",
      "INSERT INTO history_hr_prc_upbit VALUES('20200708','23:00:00','krwbtc',11174000.0,11151000.0,11208000.0,11138000.0,284.44195611)\n",
      "INSERT INTO history_hr_prc_upbit VALUES('20200709','00:00:00','krwbtc',11154000.0,11140000.0,11157000.0,11120000.0,118.01008418)\n",
      "INSERT INTO history_hr_prc_upbit VALUES('20200709','01:00:00','krwbtc',11134000.0,11136000.0,11148000.0,11097000.0,98.39694316)\n",
      "INSERT INTO history_hr_prc_upbit VALUES('20200709','02:00:00','krwbtc',11143000.0,11131000.0,11151000.0,11118000.0,52.38804721)\n",
      "INSERT INTO history_hr_prc_upbit VALUES('20200709','03:00:00','krwbtc',11131000.0,11135000.0,11143000.0,11114000.0,21.52580415)\n",
      "INSERT INTO history_hr_prc_upbit VALUES('20200709','04:00:00','krwbtc',11137000.0,11148000.0,11155000.0,11125000.0,28.83912167)\n",
      "INSERT INTO history_hr_prc_upbit VALUES('20200709','05:00:00','krwbtc',11148000.0,11141000.0,11163000.0,11134000.0,46.27954601)\n",
      "INSERT INTO history_hr_prc_upbit VALUES('20200709','06:00:00','krwbtc',11141000.0,11138000.0,11150000.0,11116000.0,53.01209651)\n",
      "INSERT INTO history_hr_prc_upbit VALUES('20200709','07:00:00','krwbtc',11127000.0,11162000.0,11177000.0,11125000.0,102.2916143)\n",
      "INSERT INTO history_hr_prc_upbit VALUES('20200709','08:00:00','krwbtc',11165000.0,11138000.0,11167000.0,11122000.0,108.84686118)\n",
      "INSERT INTO history_hr_prc_upbit VALUES('20200709','09:00:00','krwbtc',11135000.0,11126000.0,11147000.0,11113000.0,111.66165633)\n",
      "INSERT INTO history_hr_prc_upbit VALUES('20200709','10:00:00','krwbtc',11127000.0,11075000.0,11135000.0,11059000.0,171.39475177)\n",
      "INSERT INTO history_hr_prc_upbit VALUES('20200709','11:00:00','krwbtc',11079000.0,11076000.0,11097000.0,11052000.0,198.17797407)\n",
      "INSERT INTO history_hr_prc_upbit VALUES('20200709','12:00:00','krwbtc',11078000.0,11088000.0,11097000.0,11076000.0,27.045212699999997)\n"
     ]
    }
   ],
   "source": [
    "# for i in range(len(df)):\n",
    "#     tmp = str(df.iloc[i]['timestamp']).replace(\"-\",\"\")\n",
    "#     tmp = tmp.split('T')\n",
    "#     base_dt = tmp[0]\n",
    "    \n",
    "#     coin_type = 'krwbtc'\n",
    "#     base_time = tmp[1]\n",
    "#     open_price = df.iloc[i]['open']\n",
    "#     close_price = df.iloc[i]['close']\n",
    "#     high_price = df.iloc[i]['high']\n",
    "#     low_price = df.iloc[i]['low']\n",
    "#     volumn = df.iloc[i]['volume']\n",
    "\n",
    "#     query = \"INSERT INTO history_hr_prc_upbit VALUES('{}','{}','{}',{},{},{},{},{})\".format(base_dt,base_time,coin_type,open_price,close_price,high_price,low_price,volumn)\n",
    "#     db_cursor.execute(query)\n",
    "#     print(query)\n",
    "    \n",
    "# db_connection.commit()"
   ]
  },
  {
   "cell_type": "code",
   "execution_count": null,
   "metadata": {},
   "outputs": [],
   "source": [
    "db_connection.close()"
   ]
  }
 ],
 "metadata": {
  "kernelspec": {
   "display_name": "Python 3",
   "language": "python",
   "name": "python3"
  },
  "language_info": {
   "codemirror_mode": {
    "name": "ipython",
    "version": 3
   },
   "file_extension": ".py",
   "mimetype": "text/x-python",
   "name": "python",
   "nbconvert_exporter": "python",
   "pygments_lexer": "ipython3",
   "version": "3.6.9"
  }
 },
 "nbformat": 4,
 "nbformat_minor": 2
}
