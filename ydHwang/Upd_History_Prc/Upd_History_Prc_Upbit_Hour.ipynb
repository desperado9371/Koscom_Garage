{
 "cells": [
  {
   "cell_type": "code",
   "execution_count": 2,
   "metadata": {},
   "outputs": [],
   "source": [
    "import glob\n",
    "import pandas as pd\n",
    "import mysql.connector as sql"
   ]
  },
  {
   "cell_type": "code",
   "execution_count": 4,
   "metadata": {},
   "outputs": [
    {
     "name": "stdout",
     "output_type": "stream",
     "text": [
      "                 timestamp        open       close        high         low  \\\n",
      "14003  2020-05-28T13:00:00  11159000.0  11148000.0  11159000.0  11132000.0   \n",
      "\n",
      "          volume  \n",
      "14003  25.440769  \n"
     ]
    }
   ],
   "source": [
    "df = pd.read_csv(\"/home/garage/workspace/price_update_crontab/upbit_krwbtc_1hr.csv\")\n",
    "df = df.tail(1)\n",
    "print(df)"
   ]
  },
  {
   "cell_type": "code",
   "execution_count": 7,
   "metadata": {},
   "outputs": [
    {
     "name": "stdout",
     "output_type": "stream",
     "text": [
      "INSERT INTO history_hr_prc_upbit VALUES('20200528','12:00:00','krwbtc',11190000.0,11156000.0,11191000.0,11151000.0,132.90031725)\n"
     ]
    }
   ],
   "source": [
    "db_connection = sql.connect(host='root.cqyptexqvznx.ap-northeast-2.rds.amazonaws.com',port=int(3306), database='garage_test', user='root', password='koscom!234')\n",
    "db_cursor = db_connection.cursor()\n",
    "\n",
    "tmp = str(df.iloc[0]['timestamp']).replace(\"-\",\"\")\n",
    "tmp = tmp.split('T')\n",
    "base_dt = tmp[0]\n",
    "\n",
    "coin_type = 'krwbtc'\n",
    "base_time = tmp[1]\n",
    "open_price = df.iloc[0]['open']\n",
    "close_price = df.iloc[0]['close']\n",
    "high_price = df.iloc[0]['high']\n",
    "low_price = df.iloc[0]['low']\n",
    "volumn = df.iloc[0]['volume']\n",
    "\n",
    "query = \"INSERT INTO history_hr_prc_upbit VALUES('{}','{}','{}',{},{},{},{},{})\".format(base_dt,base_time,coin_type,open_price,close_price,high_price,low_price,volumn)\n",
    "db_cursor.execute(query)\n",
    "print(query)\n",
    "    \n",
    "db_connection.commit()"
   ]
  },
  {
   "cell_type": "code",
   "execution_count": null,
   "metadata": {},
   "outputs": [],
   "source": []
  }
 ],
 "metadata": {
  "kernelspec": {
   "display_name": "Python 3",
   "language": "python",
   "name": "python3"
  },
  "language_info": {
   "codemirror_mode": {
    "name": "ipython",
    "version": 3
   },
   "file_extension": ".py",
   "mimetype": "text/x-python",
   "name": "python",
   "nbconvert_exporter": "python",
   "pygments_lexer": "ipython3",
   "version": "3.6.9"
  }
 },
 "nbformat": 4,
 "nbformat_minor": 2
}
