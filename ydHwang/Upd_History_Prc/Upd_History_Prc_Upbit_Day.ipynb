{
 "cells": [
  {
   "cell_type": "code",
   "execution_count": 2,
   "metadata": {},
   "outputs": [
    {
     "name": "stdout",
     "output_type": "stream",
     "text": [
      "               timestamp        open       close        high         low  \\\n",
      "966  2020-05-18T09:00:00  11619000.0  11705000.0  11899000.0  11380000.0   \n",
      "967  2020-05-19T09:00:00  11704000.0  11727000.0  11833000.0  11430000.0   \n",
      "968  2020-05-20T09:00:00  11727000.0  11532000.0  11800000.0  11350000.0   \n",
      "969  2020-05-21T09:00:00  11533000.0  11089000.0  11609000.0  10798000.0   \n",
      "970  2020-05-22T09:00:00  11089000.0  11117000.0  11242000.0  10900000.0   \n",
      "971  2020-05-23T09:00:00  11117000.0  11140000.0  11299000.0  11048000.0   \n",
      "972  2020-05-24T09:00:00  11140000.0  10664000.0  11249000.0  10630000.0   \n",
      "973  2020-05-25T09:00:00  10663000.0  10825000.0  10886000.0  10507000.0   \n",
      "974  2020-05-26T09:00:00  10821000.0  10729000.0  10929000.0  10611000.0   \n",
      "975  2020-05-27T09:00:00  10724000.0  11163000.0  11187000.0  10722000.0   \n",
      "976  2020-05-28T09:00:00  11151000.0  11153000.0  11180000.0  11139000.0   \n",
      "\n",
      "          volume  \n",
      "966  6557.546140  \n",
      "967  6500.919618  \n",
      "968  5246.788728  \n",
      "969  7323.045949  \n",
      "970  4239.655740  \n",
      "971  2106.463909  \n",
      "972  3564.633242  \n",
      "973  4299.982282  \n",
      "974  3154.589746  \n",
      "975  4433.783301  \n",
      "976    29.717046  \n"
     ]
    }
   ],
   "source": [
    "import glob\n",
    "import pandas as pd\n",
    "import mysql.connector as sql\n",
    "\n",
    "df = pd.read_csv(\"/home/garage/workspace/price_update_crontab/upbit_krwbtc_1day.csv\")\n",
    "df = df.tail(11)\n",
    "print(df)\n",
    "db_connection = sql.connect(host='root.cqyptexqvznx.ap-northeast-2.rds.amazonaws.com',port=int(3306), database='garage_test', user='root', password='koscom!234')\n",
    "db_cursor = db_connection.cursor()"
   ]
  },
  {
   "cell_type": "code",
   "execution_count": 3,
   "metadata": {},
   "outputs": [
    {
     "name": "stdout",
     "output_type": "stream",
     "text": [
      "INSERT INTO history_dt_prc_upbit VALUES('20200518','krwbtc',11619000.0,11705000.0,11899000.0,11380000.0,6557.54613956)\n",
      "INSERT INTO history_dt_prc_upbit VALUES('20200519','krwbtc',11704000.0,11727000.0,11833000.0,11430000.0,6500.9196182999995)\n",
      "INSERT INTO history_dt_prc_upbit VALUES('20200520','krwbtc',11727000.0,11532000.0,11800000.0,11350000.0,5246.78872844)\n",
      "INSERT INTO history_dt_prc_upbit VALUES('20200521','krwbtc',11533000.0,11089000.0,11609000.0,10798000.0,7323.04594878)\n",
      "INSERT INTO history_dt_prc_upbit VALUES('20200522','krwbtc',11089000.0,11117000.0,11242000.0,10900000.0,4239.65573952)\n",
      "INSERT INTO history_dt_prc_upbit VALUES('20200523','krwbtc',11117000.0,11140000.0,11299000.0,11048000.0,2106.46390938)\n",
      "INSERT INTO history_dt_prc_upbit VALUES('20200524','krwbtc',11140000.0,10664000.0,11249000.0,10630000.0,3564.63324161)\n",
      "INSERT INTO history_dt_prc_upbit VALUES('20200525','krwbtc',10663000.0,10825000.0,10886000.0,10507000.0,4299.98228167)\n",
      "INSERT INTO history_dt_prc_upbit VALUES('20200526','krwbtc',10821000.0,10729000.0,10929000.0,10611000.0,3154.58974572)\n",
      "INSERT INTO history_dt_prc_upbit VALUES('20200527','krwbtc',10724000.0,11163000.0,11187000.0,10722000.0,4433.78330122)\n",
      "INSERT INTO history_dt_prc_upbit VALUES('20200528','krwbtc',11151000.0,11153000.0,11180000.0,11139000.0,29.71704568)\n"
     ]
    }
   ],
   "source": [
    "for i in range(len(df)):\n",
    "    tmp = str(df.iloc[i]['timestamp']).replace(\"-\",\"\")\n",
    "    tmp = tmp.split('T')\n",
    "    base_dt = tmp[0]\n",
    "    \n",
    "    coin_type = 'krwbtc'\n",
    "    base_time = tmp[1]\n",
    "    open_price = df.iloc[i]['open']\n",
    "    close_price = df.iloc[i]['close']\n",
    "    high_price = df.iloc[i]['high']\n",
    "    low_price = df.iloc[i]['low']\n",
    "    volumn = df.iloc[i]['volume']\n",
    "\n",
    "    query = \"INSERT INTO history_dt_prc_upbit VALUES('{}','{}',{},{},{},{},{})\".format(base_dt,coin_type,open_price,close_price,high_price,low_price,volumn)\n",
    "    db_cursor.execute(query)\n",
    "    print(query)\n",
    "    \n",
    "db_connection.commit()"
   ]
  },
  {
   "cell_type": "code",
   "execution_count": null,
   "metadata": {},
   "outputs": [],
   "source": []
  }
 ],
 "metadata": {
  "kernelspec": {
   "display_name": "Python 3",
   "language": "python",
   "name": "python3"
  },
  "language_info": {
   "codemirror_mode": {
    "name": "ipython",
    "version": 3
   },
   "file_extension": ".py",
   "mimetype": "text/x-python",
   "name": "python",
   "nbconvert_exporter": "python",
   "pygments_lexer": "ipython3",
   "version": "3.6.9"
  }
 },
 "nbformat": 4,
 "nbformat_minor": 2
}
