{
 "cells": [
  {
   "cell_type": "code",
   "execution_count": 6,
   "metadata": {},
   "outputs": [
    {
     "name": "stdout",
     "output_type": "stream",
     "text": [
      "                timestamp        open       close        high         low  \\\n",
      "1015  2020-07-06T09:00:00  10831000.0  11065000.0  11102000.0  10796000.0   \n",
      "1016  2020-07-07T09:00:00  11065000.0  10988000.0  11097000.0  10952000.0   \n",
      "1017  2020-07-08T09:00:00  10988000.0  11138000.0  11208000.0  10968000.0   \n",
      "1018  2020-07-09T09:00:00  11135000.0  11145000.0  11145000.0  11133000.0   \n",
      "\n",
      "           volume  \n",
      "1015  2834.356263  \n",
      "1016  1828.517133  \n",
      "1017  3274.769819  \n",
      "1018    15.923288  \n"
     ]
    }
   ],
   "source": [
    "import mysql.connector as sql\n",
    "import glob\n",
    "import pandas as pd\n",
    "\n",
    "\n",
    "df = pd.read_csv(\"/home/garage/workspace/price_update_crontab/upbit_krwbtc_1day.csv\")\n",
    "df = df.tail(4)\n",
    "print(df)\n",
    "db_connection = sql.connect(host='root.cqyptexqvznx.ap-northeast-2.rds.amazonaws.com',port=int(3306), database='garage_test', user='root', password='koscom!234')\n",
    "db_cursor = db_connection.cursor()"
   ]
  },
  {
   "cell_type": "code",
   "execution_count": 7,
   "metadata": {},
   "outputs": [
    {
     "name": "stdout",
     "output_type": "stream",
     "text": [
      "INSERT INTO history_dt_prc_upbit VALUES('20200706','krwbtc',10831000.0,11065000.0,11102000.0,10796000.0,2834.35626338)\n",
      "INSERT INTO history_dt_prc_upbit VALUES('20200707','krwbtc',11065000.0,10988000.0,11097000.0,10952000.0,1828.51713339)\n",
      "INSERT INTO history_dt_prc_upbit VALUES('20200708','krwbtc',10988000.0,11138000.0,11208000.0,10968000.0,3274.76981902)\n",
      "INSERT INTO history_dt_prc_upbit VALUES('20200709','krwbtc',11135000.0,11145000.0,11145000.0,11133000.0,15.92328837)\n"
     ]
    }
   ],
   "source": [
    "for i in range(len(df)):\n",
    "    tmp = str(df.iloc[i]['timestamp']).replace(\"-\",\"\")\n",
    "    tmp = tmp.split('T')\n",
    "    base_dt = tmp[0]\n",
    "    \n",
    "    coin_type = 'krwbtc'\n",
    "    base_time = tmp[1]\n",
    "    open_price = df.iloc[i]['open']\n",
    "    close_price = df.iloc[i]['close']\n",
    "    high_price = df.iloc[i]['high']\n",
    "    low_price = df.iloc[i]['low']\n",
    "    volumn = df.iloc[i]['volume']\n",
    "\n",
    "    query = \"INSERT INTO history_dt_prc_upbit VALUES('{}','{}',{},{},{},{},{})\".format(base_dt,coin_type,open_price,close_price,high_price,low_price,volumn)\n",
    "    db_cursor.execute(query)\n",
    "    print(query)\n",
    "    \n",
    "db_connection.commit()"
   ]
  },
  {
   "cell_type": "code",
   "execution_count": null,
   "metadata": {},
   "outputs": [],
   "source": [
    "db_connection.close()"
   ]
  }
 ],
 "metadata": {
  "kernelspec": {
   "display_name": "Python 3",
   "language": "python",
   "name": "python3"
  },
  "language_info": {
   "codemirror_mode": {
    "name": "ipython",
    "version": 3
   },
   "file_extension": ".py",
   "mimetype": "text/x-python",
   "name": "python",
   "nbconvert_exporter": "python",
   "pygments_lexer": "ipython3",
   "version": "3.6.9"
  }
 },
 "nbformat": 4,
 "nbformat_minor": 2
}
