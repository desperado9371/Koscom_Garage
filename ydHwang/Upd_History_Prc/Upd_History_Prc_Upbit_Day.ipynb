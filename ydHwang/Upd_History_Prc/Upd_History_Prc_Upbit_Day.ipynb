{
 "cells": [
  {
   "cell_type": "code",
   "execution_count": 12,
   "metadata": {},
   "outputs": [
    {
     "name": "stdout",
     "output_type": "stream",
     "text": [
      "                timestamp        open       close        high         low  \\\n",
      "1085  2020-09-14T09:00:00  12377000.0  12659000.0  12736000.0  12285000.0   \n",
      "1086  2020-09-15T09:00:00  12657000.0  12814000.0  12913000.0  12555000.0   \n",
      "1087  2020-09-16T09:00:00  12801000.0  12913000.0  13050000.0  12652000.0   \n",
      "1088  2020-09-17T09:00:00  12908000.0  12899000.0  12908000.0  12888000.0   \n",
      "\n",
      "           volume  \n",
      "1085  2810.175514  \n",
      "1086  3676.586632  \n",
      "1087  3856.194297  \n",
      "1088    23.213141  \n"
     ]
    }
   ],
   "source": [
    "import mysql.connector as sql\n",
    "import glob\n",
    "import pandas as pd\n",
    "\n",
    "\n",
    "df = pd.read_csv(\"/home/garage/workspace/price_update_crontab/upbit_krwbtc_1day.csv\")\n",
    "df = df.tail(4)\n",
    "print(df)\n",
    "db_connection = sql.connect(host='root.cqyptexqvznx.ap-northeast-2.rds.amazonaws.com',port=int(3306), database='garage_test', user='root', password='koscom!234')\n",
    "db_cursor = db_connection.cursor()"
   ]
  },
  {
   "cell_type": "code",
   "execution_count": 13,
   "metadata": {},
   "outputs": [
    {
     "name": "stdout",
     "output_type": "stream",
     "text": [
      "INSERT INTO history_dt_prc_upbit VALUES('20200914','krwbtc',12377000.0,12659000.0,12736000.0,12285000.0,2810.17551441)\n",
      "INSERT INTO history_dt_prc_upbit VALUES('20200915','krwbtc',12657000.0,12814000.0,12913000.0,12555000.0,3676.58663151)\n",
      "INSERT INTO history_dt_prc_upbit VALUES('20200916','krwbtc',12801000.0,12913000.0,13050000.0,12652000.0,3856.19429687)\n",
      "INSERT INTO history_dt_prc_upbit VALUES('20200917','krwbtc',12908000.0,12899000.0,12908000.0,12888000.0,23.2131413)\n"
     ]
    }
   ],
   "source": [
    "for i in range(len(df)):\n",
    "    tmp = str(df.iloc[i]['timestamp']).replace(\"-\",\"\")\n",
    "    tmp = tmp.split('T')\n",
    "    base_dt = tmp[0]\n",
    "    \n",
    "    coin_type = 'krwbtc'\n",
    "    base_time = tmp[1]\n",
    "    open_price = df.iloc[i]['open']\n",
    "    close_price = df.iloc[i]['close']\n",
    "    high_price = df.iloc[i]['high']\n",
    "    low_price = df.iloc[i]['low']\n",
    "    volumn = df.iloc[i]['volume']\n",
    "\n",
    "    query = \"INSERT INTO history_dt_prc_upbit VALUES('{}','{}',{},{},{},{},{})\".format(base_dt,coin_type,open_price,close_price,high_price,low_price,volumn)\n",
    "    db_cursor.execute(query)\n",
    "    print(query)\n",
    "    \n",
    "db_connection.commit()"
   ]
  },
  {
   "cell_type": "code",
   "execution_count": 14,
   "metadata": {},
   "outputs": [],
   "source": [
    "db_connection.close()"
   ]
  },
  {
   "cell_type": "code",
   "execution_count": null,
   "metadata": {},
   "outputs": [],
   "source": []
  }
 ],
 "metadata": {
  "kernelspec": {
   "display_name": "Python 3",
   "language": "python",
   "name": "python3"
  },
  "language_info": {
   "codemirror_mode": {
    "name": "ipython",
    "version": 3
   },
   "file_extension": ".py",
   "mimetype": "text/x-python",
   "name": "python",
   "nbconvert_exporter": "python",
   "pygments_lexer": "ipython3",
   "version": "3.6.9"
  }
 },
 "nbformat": 4,
 "nbformat_minor": 2
}
