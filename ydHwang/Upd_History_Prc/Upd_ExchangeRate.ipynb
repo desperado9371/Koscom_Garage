{
 "cells": [
  {
   "cell_type": "code",
   "execution_count": 12,
   "metadata": {},
   "outputs": [],
   "source": [
    "import urllib.request\n",
    "import urllib.parse\n",
    "import re\n",
    "from bs4 import BeautifulSoup\n",
    "import mysql.connector as sql\n",
    "from datetime import datetime\n",
    "\n",
    "\n",
    "def CleanText(readData):\n",
    "    # 텍스트에 포함되어 있는 특수 문자 제거\n",
    "    text = re.sub('[-=+,#/\\?:^$@*\\\"※~&%ㆍ!』\\\\‘|\\(\\)\\[\\]\\<\\>`\\'…》]', '', str(readData))\n",
    "    return text\n",
    "\n",
    "\n",
    "def Get_ExchangUSD():\n",
    "    fp = urllib.request.urlopen('https://finance.naver.com/marketindex/')\n",
    "    source = fp.read()\n",
    "    fp.close()\n",
    "    class_list = [\"tit\", \"sale\"]\n",
    "    soup = BeautifulSoup(source, 'html.parser', from_encoding='utf-8')\n",
    "    soup = soup.find(\"span\", {'class': 'value'})\n",
    "    Exchang_USD = re.sub('<.+?>', '', str(soup), 0).strip()\n",
    "\n",
    "    print(CleanText(Exchang_USD))\n",
    "    return CleanText(Exchang_USD)"
   ]
  },
  {
   "cell_type": "code",
   "execution_count": 13,
   "metadata": {},
   "outputs": [
    {
     "name": "stdout",
     "output_type": "stream",
     "text": [
      "시작\n",
      "1193.20\n"
     ]
    }
   ],
   "source": [
    "if __name__ == '__main__':\n",
    "    print(\"시작\")\n",
    "    zTodayDate = datetime.today().strftime(\"%Y%m%d\")\n",
    "    zExchangeUSD = Get_ExchangUSD()\n",
    "    db_connection = sql.connect(host='localhost', database='garage_test', user='garage', password='koscom!234')\n",
    "    db_cursor = db_connection.cursor(pymysql.cursors.DictCursor)\n",
    "\n",
    "    # ==== insert example ====\n",
    "    query = \"insert into exchange_rate(base_dt,coin_type,exchange_rate) values (%s, %s, %s)\"\n",
    "    db_cursor.execute(query, (zTodayDate, 'bitcoin', float(zExchangeUSD)))\n",
    "    db_connection.commit()"
   ]
  },
  {
   "cell_type": "code",
   "execution_count": 6,
   "metadata": {},
   "outputs": [
    {
     "name": "stdout",
     "output_type": "stream",
     "text": [
      "Collecting pymysql\n",
      "\u001b[?25l  Downloading https://files.pythonhosted.org/packages/ed/39/15045ae46f2a123019aa968dfcba0396c161c20f855f11dea6796bcaae95/PyMySQL-0.9.3-py2.py3-none-any.whl (47kB)\n",
      "\u001b[K     |████████████████████████████████| 51kB 190kB/s eta 0:00:01\n",
      "\u001b[?25hInstalling collected packages: pymysql\n",
      "Successfully installed pymysql-0.9.3\n",
      "Note: you may need to restart the kernel to use updated packages.\n"
     ]
    }
   ],
   "source": [
    "pip install pymysql"
   ]
  },
  {
   "cell_type": "code",
   "execution_count": null,
   "metadata": {},
   "outputs": [],
   "source": []
  }
 ],
 "metadata": {
  "kernelspec": {
   "display_name": "Python 3",
   "language": "python",
   "name": "python3"
  },
  "language_info": {
   "codemirror_mode": {
    "name": "ipython",
    "version": 3
   },
   "file_extension": ".py",
   "mimetype": "text/x-python",
   "name": "python",
   "nbconvert_exporter": "python",
   "pygments_lexer": "ipython3",
   "version": "3.6.9"
  }
 },
 "nbformat": 4,
 "nbformat_minor": 2
}
