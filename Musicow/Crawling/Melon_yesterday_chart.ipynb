{
 "cells": [
  {
   "cell_type": "code",
   "execution_count": 3,
   "metadata": {},
   "outputs": [],
   "source": [
    "import re\n",
    "import requests\n",
    "from bs4 import BeautifulSoup\n",
    "class Melon_api:\n",
    "    headers = {\n",
    "        'User-Agent': ('Mozilla/5.0 (Macintosh; Intel Mac OS X 10_16_0) AppleWebKit/537.36 (KHTML, like Gecko) Chrome/84.0.4147.135 Safari/537.36')\n",
    "    }\n",
    "    basic_url = \"https://www.melon.com\"\n",
    "    \n",
    "    def yesterday_rank(title):\n",
    "        headers = {\n",
    "            'User-Agent': ('Mozilla/5.0 (Macintosh; Intel Mac OS X 10_16_0) AppleWebKit/537.36 (KHTML, like Gecko) Chrome/84.0.4147.135 Safari/537.36')\n",
    "        }\n",
    "        search_url = \"https://www.melon.com/search/song/index.htm\"\n",
    "        params = {\n",
    "            'q':'',\n",
    "#            'section':'',\n",
    "#            'searchGnbYn':'Y',\n",
    "#            'kkoSpl':'Y',\n",
    "#            'kkoDpType':'',\n",
    "#            'linkOrText':'T',\n",
    "#            'ipath':'srch_form'\n",
    "        }\n",
    "\n",
    "        params['q']=title\n",
    "        try:\n",
    "            response = requests.get(search_url, params=params, headers=headers)\n",
    "            soup = BeautifulSoup(response.text, 'html.parser')\n",
    "\n",
    "            title = soup.select('div.ellipsis')[0].select('a.fc_gray')[0].text\n",
    "            artist = soup.select('div.ellipsis')[1].select('a.fc_mgray')[0].text\n",
    "            matched = re.search(r\",'(\\d+)'\",str(soup.select('tr')[1].select('a')[0]))\n",
    "            songId = matched.group(1)\n",
    "            #print(matched.group(1))\n",
    "        except:\n",
    "            print(soup)\n",
    "            return -100\n",
    "\n",
    "        song_detail_url = 'https://www.melon.com/song/detail.htm'\n",
    "        detail_param ={\n",
    "            'songId':''\n",
    "        }\n",
    "\n",
    "        detail_param['songId'] = songId\n",
    "        response = requests.get(song_detail_url, params=detail_param, headers=headers)\n",
    "        soup = BeautifulSoup(response.text, 'html.parser')\n",
    "        try:\n",
    "            yesterday_rank = soup.select('div.chart > span.num')[0].text\n",
    "            print(\"<{}> by {} songId:{} 어제의 순위:{}\".format(title, artist, songId,yesterday_rank))\n",
    "            return yesterday_rank\n",
    "        except:\n",
    "            print(\"<{}> by{} songId:{} 노래가 1000위권 밖입니다.\".format(title, artist, songId))\n",
    "            return -1"
   ]
  },
  {
   "cell_type": "code",
   "execution_count": 16,
   "metadata": {},
   "outputs": [
    {
     "name": "stdout",
     "output_type": "stream",
     "text": [
      "<슬픈 발걸음 (구두Ⅱ)> by씨야 songId:3118481 노래가 1000위권 밖입니다.\n",
      "-1\n"
     ]
    }
   ],
   "source": [
    "melon = Melon_api\n",
    "print(melon.yesterday_rank('슬픈 발걸음'))"
   ]
  },
  {
   "cell_type": "code",
   "execution_count": 6,
   "metadata": {},
   "outputs": [],
   "source": [
    "import pymysql\n",
    "\n",
    "conn = pymysql.connect(host='root.cqyptexqvznx.ap-northeast-2.rds.amazonaws.com',user='root',password='koscom!234', db='Musicow', charset='utf8')  \n",
    "\n",
    "curs = conn.cursor(pymysql.cursors.DictCursor)\n",
    "\n",
    "sql = \"SELECT * from profit_year GROUP BY song_id \"\n",
    "curs.execute(sql)\n",
    "\n",
    "rows= curs.fetchall()"
   ]
  },
  {
   "cell_type": "code",
   "execution_count": 7,
   "metadata": {},
   "outputs": [],
   "source": [
    "from datetime import datetime\n",
    "\n",
    "yesterday_list = list()"
   ]
  },
  {
   "cell_type": "code",
   "execution_count": 17,
   "metadata": {},
   "outputs": [
    {
     "name": "stdout",
     "output_type": "stream",
     "text": [
      "<I`m In Love (Piano RMX)> by라디 (Ra. D) songId:2224702 노래가 1000위권 밖입니다.\n",
      "<연애시대 (Feat. Ra.D) (Narr. 한효주)> by이승기 songId:3573175 노래가 1000위권 밖입니다.\n",
      "<엄마> by라디 (Ra. D) songId:1992453 노래가 1000위권 밖입니다.\n",
      "<I Can`t> by2PM songId:2962950 노래가 1000위권 밖입니다.\n",
      "<오랜만이죠 (Feat. 신지수)> by라디 (Ra. D) songId:4027796 노래가 1000위권 밖입니다.\n",
      "<My Style> by조pd (ZoPD) songId:1786655 노래가 1000위권 밖입니다.\n",
      "<고마워 고마워> by라디 (Ra. D) songId:4071267 노래가 1000위권 밖입니다.\n",
      "<Couple Song (Feat. Kelley)> by라디 (Ra. D) songId:1992457 노래가 1000위권 밖입니다.\n",
      "<어머니의 된장국 (Feat. Ra.D)> by다이나믹 듀오 songId:1917572 노래가 1000위권 밖입니다.\n",
      "<너와 함께 있음을> by라디 (Ra. D) songId:1992458 노래가 1000위권 밖입니다.\n",
      "<Goodbye> by라디 (Ra. D) songId:1992449 노래가 1000위권 밖입니다.\n",
      "<Happy Birthday> by라디 (Ra. D) songId:1992459 노래가 1000위권 밖입니다.\n",
      "<어떤 설레임> by라디 (Ra. D) songId:4144356 노래가 1000위권 밖입니다.\n",
      "<아버지 (Feat. Ra.D)> by다이나믹 듀오 songId:1916552 노래가 1000위권 밖입니다.\n",
      "<난 네게 (Acoustik RMX) (Feat. Inbar)> by라디 (Ra. D) songId:2224704 노래가 1000위권 밖입니다.\n",
      "<빨간 운동화> by박혜경 songId:502948 노래가 1000위권 밖입니다.\n",
      "<안녕> by박혜경 songId:465286 노래가 1000위권 밖입니다.\n",
      "<하이힐> by박혜경 songId:2247067 노래가 1000위권 밖입니다.\n",
      "<Yesterday> by박혜경 songId:1131254 노래가 1000위권 밖입니다.\n",
      "<Dream (Prod. by 박근태)> by 수지 (SUZY) songId:8005879 어제의 순위:916\n",
      "<서울사람들> by버스커 버스커 songId:3614345 노래가 1000위권 밖입니다.\n",
      "<가슴앓이> by바비 킴 songId:3597453 노래가 1000위권 밖입니다.\n",
      "<너와 함께> by울랄라세션 songId:3624137 노래가 1000위권 밖입니다.\n",
      "<마음의 기록> by양파 songId:32505031 노래가 1000위권 밖입니다.\n",
      "<Fly> bySUPER JUNIOR-K.R.Y. (슈퍼주니어-K.R.Y.) songId:3364648 노래가 1000위권 밖입니다.\n",
      "<화 (Feat. 진실 Of Mad Soul Child) (Fire)> by매드클라운 songId:5531227 노래가 1000위권 밖입니다.\n",
      "<바질 (Feat. BrotherSu)> by매드클라운 songId:3599484 노래가 1000위권 밖입니다.\n",
      "<때려박는 랩 (Bonus Track) (Battlecry)> by매드클라운 songId:5538223 노래가 1000위권 밖입니다.\n",
      "<Rap Star> by스윙스 songId:5433831 노래가 1000위권 밖입니다.\n",
      "<Tic Toc> by매드클라운 songId:3599483 노래가 1000위권 밖입니다.\n"
     ]
    }
   ],
   "source": [
    "\n",
    "for row in rows[:30]:\n",
    "    temp_list = list()\n",
    "    song_id = row['song_id']\n",
    "    title = row['title']\n",
    "    artist = row['artist']\n",
    "    today = datetime.today().date()\n",
    "    try:\n",
    "        temp = melon.yesterday_rank(row['title']+' '+row['artist'])\n",
    "    except:\n",
    "        temp = melon.yesterday_rank(row['title'])\n",
    "    temp = int(temp)\n",
    "    try:\n",
    "        if temp<0:\n",
    "            temp = -1\n",
    "    except:\n",
    "        temp = -1\n",
    "    rank = temp\n",
    "    temp_list=[song_id, title, artist, today, rank]\n",
    "    yesterday_list.append(temp_list)"
   ]
  },
  {
   "cell_type": "code",
   "execution_count": 123,
   "metadata": {},
   "outputs": [
    {
     "name": "stdout",
     "output_type": "stream",
     "text": [
      "2020-09-01\n"
     ]
    }
   ],
   "source": [
    "from datetime import datetime\n",
    "\n",
    "print(datetime.today().date())"
   ]
  },
  {
   "cell_type": "code",
   "execution_count": 18,
   "metadata": {},
   "outputs": [
    {
     "data": {
      "text/plain": [
       "[[26, \"I'm in love\", 'Ra.D (라디)', datetime.date(2020, 9, 2), -1],\n",
       " [27, '연애시대', '이승기', datetime.date(2020, 9, 2), -1],\n",
       " [28, '엄마', 'Ra.D (라디)', datetime.date(2020, 9, 2), -1],\n",
       " [29, \"I can't\", '2PM', datetime.date(2020, 9, 2), -1],\n",
       " [30, '오랜만이죠 (feat. 신지수)', 'Ra.D (라디)', datetime.date(2020, 9, 2), -1],\n",
       " [31, 'My style', '조PD', datetime.date(2020, 9, 2), -1],\n",
       " [32, '고마워고마워', 'Ra.D (라디)', datetime.date(2020, 9, 2), -1],\n",
       " [33,\n",
       "  'Couple song (feat. Kelley)',\n",
       "  'Ra.D (라디)',\n",
       "  datetime.date(2020, 9, 2),\n",
       "  -1],\n",
       " [34, '어머니의된장국(feat. Ra.D)', '다이나믹듀오', datetime.date(2020, 9, 2), -1],\n",
       " [35, '너와함께있음을', 'Ra.D (라디)', datetime.date(2020, 9, 2), -1],\n",
       " [36, 'Goodbye', 'Ra.D (라디)', datetime.date(2020, 9, 2), -1],\n",
       " [37, 'Happy birthday', 'Ra.D (라디)', datetime.date(2020, 9, 2), -1],\n",
       " [38, '어떤설레임', 'Ra.D (라디)', datetime.date(2020, 9, 2), -1],\n",
       " [39, '아버지', '다이나믹듀오', datetime.date(2020, 9, 2), -1],\n",
       " [40, '난 네게', 'Ra.D (라디)', datetime.date(2020, 9, 2), -1],\n",
       " [41, '빨간운동화', '박혜경', datetime.date(2020, 9, 2), -1],\n",
       " [42, '안녕', '박혜경', datetime.date(2020, 9, 2), -1],\n",
       " [43, '하이힐', '박혜경', datetime.date(2020, 9, 2), -1],\n",
       " [44, 'Yesterday', '박혜경', datetime.date(2020, 9, 2), -1],\n",
       " [26, \"I'm in love\", 'Ra.D (라디)', datetime.date(2020, 9, 2), -1],\n",
       " [27, '연애시대', '이승기', datetime.date(2020, 9, 2), -1],\n",
       " [28, '엄마', 'Ra.D (라디)', datetime.date(2020, 9, 2), -1],\n",
       " [29, \"I can't\", '2PM', datetime.date(2020, 9, 2), -1],\n",
       " [30, '오랜만이죠 (feat. 신지수)', 'Ra.D (라디)', datetime.date(2020, 9, 2), -1],\n",
       " [31, 'My style', '조PD', datetime.date(2020, 9, 2), -1],\n",
       " [32, '고마워고마워', 'Ra.D (라디)', datetime.date(2020, 9, 2), -1],\n",
       " [33,\n",
       "  'Couple song (feat. Kelley)',\n",
       "  'Ra.D (라디)',\n",
       "  datetime.date(2020, 9, 2),\n",
       "  -1],\n",
       " [34, '어머니의된장국(feat. Ra.D)', '다이나믹듀오', datetime.date(2020, 9, 2), -1],\n",
       " [35, '너와함께있음을', 'Ra.D (라디)', datetime.date(2020, 9, 2), -1],\n",
       " [36, 'Goodbye', 'Ra.D (라디)', datetime.date(2020, 9, 2), -1],\n",
       " [37, 'Happy birthday', 'Ra.D (라디)', datetime.date(2020, 9, 2), -1],\n",
       " [38, '어떤설레임', 'Ra.D (라디)', datetime.date(2020, 9, 2), -1],\n",
       " [39, '아버지', '다이나믹듀오', datetime.date(2020, 9, 2), -1],\n",
       " [40, '난 네게', 'Ra.D (라디)', datetime.date(2020, 9, 2), -1],\n",
       " [41, '빨간운동화', '박혜경', datetime.date(2020, 9, 2), -1],\n",
       " [42, '안녕', '박혜경', datetime.date(2020, 9, 2), -1],\n",
       " [43, '하이힐', '박혜경', datetime.date(2020, 9, 2), -1],\n",
       " [44, 'Yesterday', '박혜경', datetime.date(2020, 9, 2), -1],\n",
       " [45, 'DREAM', '수지, 백현', datetime.date(2020, 9, 2), 916],\n",
       " [46, '서울사람들', '버스커버스커', datetime.date(2020, 9, 2), -1],\n",
       " [47, '가슴앓이', '바비킴', datetime.date(2020, 9, 2), -1],\n",
       " [48, '너와함께', '울랄라세션', datetime.date(2020, 9, 2), -1],\n",
       " [49, '기억할게요', '양파', datetime.date(2020, 9, 2), -1],\n",
       " [50, 'FLY', '슈퍼주니어K.R.Y', datetime.date(2020, 9, 2), -1],\n",
       " [51, '화', '매드클라운', datetime.date(2020, 9, 2), -1],\n",
       " [52, '바질(FEAT. BROTHERSU)', '매드클라운', datetime.date(2020, 9, 2), -1],\n",
       " [53, '때려박는랩', '매드클라운', datetime.date(2020, 9, 2), -1],\n",
       " [54, 'RAP STAR', 'SWINGS', datetime.date(2020, 9, 2), -1],\n",
       " [55, 'TIC TOC', '매드클라운', datetime.date(2020, 9, 2), -1],\n",
       " [56, 'WOULD YOU BE MY(FEAT.BEENZINO)', '팔로알토', datetime.date(2020, 9, 2), -1],\n",
       " [57, '꽃(FEAT.JUSTHIS)', '매드클라운', datetime.date(2020, 9, 2), -1],\n",
       " [58, '둘만아는말투(FEAT. RA.D,PALOALTO)', '제리케이', datetime.date(2020, 9, 2), -1],\n",
       " [59,\n",
       "  'FEMME FATALE(FEAT.TYRA,BEENZINO)',\n",
       "  '스윙스',\n",
       "  datetime.date(2020, 9, 2),\n",
       "  -1],\n",
       " [60, '다툼(FEAT. 40)', '제리케이', datetime.date(2020, 9, 2), -1],\n",
       " [61,\n",
       "  '링마벨(RING MY BELL)',\n",
       "  \"걸스데이GIRL'S DAY (걸스데이)\",\n",
       "  datetime.date(2020, 9, 2),\n",
       "  -1],\n",
       " [62, '예쁜 나이 25살', '송지은', datetime.date(2020, 9, 2), -1],\n",
       " [63, '기억에게 외치다 (FEAT. 조현아 of 어반자카파)', '장우혁', datetime.date(2020, 9, 2), -1],\n",
       " [64, '심상치 않아 (FEAT.주영)', '키썸', datetime.date(2020, 9, 2), -1],\n",
       " [65, '이상하다 참 (FEAT. 칸토 of 트로이)', '민아', datetime.date(2020, 9, 2), -1],\n",
       " [66, '예쁘다', '에어플레인', datetime.date(2020, 9, 2), -1],\n",
       " [67, '1분1초', '지연', datetime.date(2020, 9, 2), -1],\n",
       " [68, 'WHITE DAY', '걸스데이', datetime.date(2020, 9, 2), -1],\n",
       " [69, '너만 봐(FEAT. CHANNELS)', '유지', datetime.date(2020, 9, 2), -1],\n",
       " [70, 'IF YOU', '에일리', datetime.date(2020, 9, 2), -1],\n",
       " [71, '그 중에 그대를 만나', '이선희', datetime.date(2020, 9, 2), 898],\n",
       " [72, '사고쳤어요', '다비치', datetime.date(2020, 9, 2), -1],\n",
       " [73, '저녁하늘', '에일리', datetime.date(2020, 9, 2), 596],\n",
       " [74, '사랑이라 쓰고 아픔이라 부른다', '서인영', datetime.date(2020, 9, 2), -1],\n",
       " [75, '슬픈 발걸음', 'SEEYA', datetime.date(2020, 9, 2), -1],\n",
       " [26, \"I'm in love\", 'Ra.D (라디)', datetime.date(2020, 9, 2), -1],\n",
       " [27, '연애시대', '이승기', datetime.date(2020, 9, 2), -1],\n",
       " [28, '엄마', 'Ra.D (라디)', datetime.date(2020, 9, 2), -1],\n",
       " [29, \"I can't\", '2PM', datetime.date(2020, 9, 2), -1],\n",
       " [30, '오랜만이죠 (feat. 신지수)', 'Ra.D (라디)', datetime.date(2020, 9, 2), -1],\n",
       " [31, 'My style', '조PD', datetime.date(2020, 9, 2), -1],\n",
       " [32, '고마워고마워', 'Ra.D (라디)', datetime.date(2020, 9, 2), -1],\n",
       " [33,\n",
       "  'Couple song (feat. Kelley)',\n",
       "  'Ra.D (라디)',\n",
       "  datetime.date(2020, 9, 2),\n",
       "  -1],\n",
       " [34, '어머니의된장국(feat. Ra.D)', '다이나믹듀오', datetime.date(2020, 9, 2), -1],\n",
       " [35, '너와함께있음을', 'Ra.D (라디)', datetime.date(2020, 9, 2), -1],\n",
       " [36, 'Goodbye', 'Ra.D (라디)', datetime.date(2020, 9, 2), -1],\n",
       " [37, 'Happy birthday', 'Ra.D (라디)', datetime.date(2020, 9, 2), -1],\n",
       " [38, '어떤설레임', 'Ra.D (라디)', datetime.date(2020, 9, 2), -1],\n",
       " [39, '아버지', '다이나믹듀오', datetime.date(2020, 9, 2), -1],\n",
       " [40, '난 네게', 'Ra.D (라디)', datetime.date(2020, 9, 2), -1],\n",
       " [41, '빨간운동화', '박혜경', datetime.date(2020, 9, 2), -1],\n",
       " [42, '안녕', '박혜경', datetime.date(2020, 9, 2), -1],\n",
       " [43, '하이힐', '박혜경', datetime.date(2020, 9, 2), -1],\n",
       " [44, 'Yesterday', '박혜경', datetime.date(2020, 9, 2), -1],\n",
       " [45, 'DREAM', '수지, 백현', datetime.date(2020, 9, 2), 916],\n",
       " [46, '서울사람들', '버스커버스커', datetime.date(2020, 9, 2), -1],\n",
       " [47, '가슴앓이', '바비킴', datetime.date(2020, 9, 2), -1],\n",
       " [48, '너와함께', '울랄라세션', datetime.date(2020, 9, 2), -1],\n",
       " [49, '기억할게요', '양파', datetime.date(2020, 9, 2), -1],\n",
       " [50, 'FLY', '슈퍼주니어K.R.Y', datetime.date(2020, 9, 2), -1],\n",
       " [51, '화', '매드클라운', datetime.date(2020, 9, 2), -1],\n",
       " [52, '바질(FEAT. BROTHERSU)', '매드클라운', datetime.date(2020, 9, 2), -1],\n",
       " [53, '때려박는랩', '매드클라운', datetime.date(2020, 9, 2), -1],\n",
       " [54, 'RAP STAR', 'SWINGS', datetime.date(2020, 9, 2), -1],\n",
       " [55, 'TIC TOC', '매드클라운', datetime.date(2020, 9, 2), -1]]"
      ]
     },
     "execution_count": 18,
     "metadata": {},
     "output_type": "execute_result"
    }
   ],
   "source": [
    "yesterday_list"
   ]
  },
  {
   "cell_type": "code",
   "execution_count": 12,
   "metadata": {},
   "outputs": [],
   "source": [
    "sql = \"\"\"INSERT INTO rank_individual values(%s,%s,%s,%s,%s)\"\"\"\n",
    "for i in range(len(yesterday_list)):\n",
    "    curs.execute(sql,yesterday_list[i])\n",
    "conn.commit()"
   ]
  },
  {
   "cell_type": "code",
   "execution_count": 20,
   "metadata": {},
   "outputs": [
    {
     "name": "stdout",
     "output_type": "stream",
     "text": [
      "1\n"
     ]
    },
    {
     "ename": "NameError",
     "evalue": "name 'sleep' is not defined",
     "output_type": "error",
     "traceback": [
      "\u001b[0;31m---------------------------------------------------------------------------\u001b[0m",
      "\u001b[0;31mNameError\u001b[0m                                 Traceback (most recent call last)",
      "\u001b[0;32m<ipython-input-20-e6646ba145a4>\u001b[0m in \u001b[0;36m<module>\u001b[0;34m\u001b[0m\n\u001b[1;32m      1\u001b[0m \u001b[0mprint\u001b[0m\u001b[0;34m(\u001b[0m\u001b[0;36m1\u001b[0m\u001b[0;34m)\u001b[0m\u001b[0;34m\u001b[0m\u001b[0;34m\u001b[0m\u001b[0m\n\u001b[1;32m      2\u001b[0m \u001b[0;32mimport\u001b[0m \u001b[0msys\u001b[0m\u001b[0;34m\u001b[0m\u001b[0;34m\u001b[0m\u001b[0m\n\u001b[0;32m----> 3\u001b[0;31m \u001b[0msleep\u001b[0m\u001b[0;34m(\u001b[0m\u001b[0;36m2\u001b[0m\u001b[0;34m)\u001b[0m\u001b[0;34m\u001b[0m\u001b[0;34m\u001b[0m\u001b[0m\n\u001b[0m\u001b[1;32m      4\u001b[0m \u001b[0mprint\u001b[0m\u001b[0;34m(\u001b[0m\u001b[0;36m2\u001b[0m\u001b[0;34m)\u001b[0m\u001b[0;34m\u001b[0m\u001b[0;34m\u001b[0m\u001b[0m\n",
      "\u001b[0;31mNameError\u001b[0m: name 'sleep' is not defined"
     ]
    }
   ],
   "source": [
    "print(1)\n",
    "import sys\n",
    "sleep(2)\n",
    "print(2)"
   ]
  },
  {
   "cell_type": "code",
   "execution_count": null,
   "metadata": {},
   "outputs": [],
   "source": []
  }
 ],
 "metadata": {
  "kernelspec": {
   "display_name": "Python 3",
   "language": "python",
   "name": "python3"
  },
  "language_info": {
   "codemirror_mode": {
    "name": "ipython",
    "version": 3
   },
   "file_extension": ".py",
   "mimetype": "text/x-python",
   "name": "python",
   "nbconvert_exporter": "python",
   "pygments_lexer": "ipython3",
   "version": "3.6.9"
  }
 },
 "nbformat": 4,
 "nbformat_minor": 4
}
