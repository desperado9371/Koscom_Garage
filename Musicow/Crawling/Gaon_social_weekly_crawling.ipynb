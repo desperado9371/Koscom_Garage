{
 "cells": [
  {
   "cell_type": "code",
   "execution_count": null,
   "metadata": {},
   "outputs": [],
   "source": [
    "import re\n",
    "import requests\n",
    "from bs4 import BeautifulSoup\n",
    "from datetime import datetime\n",
    "\n",
    "headers = {\n",
    "        'User-Agent': ('Mozilla/5.0 (Macintosh; Intel Mac OS X 10_16_0) AppleWebKit/537.36 (KHTML, like Gecko) Chrome/84.0.4147.135 Safari/537.36')\n",
    "    }\n",
    "\n",
    "url = 'https://gaonchart.api.mycelebs.com/main_list?date_type=week&start_date=2020-07-19&end_date=2020-07-25'\n",
    "\n",
    "params = {\n",
    "    'nationGbn':'T',\n",
    "    'serviceGbn':'S1020',\n",
    "    'targetTime':'03',\n",
    "    'hitYear':'2010',\n",
    "    'termGbn':'month',\n",
    "}\n",
    "\n",
    "karaoke_list = list()\n",
    "\n",
    "for i in range(124):\n",
    "    month = int(params['targetTime'])\n",
    "    year = int(params['hitYear'])\n",
    "    \n",
    "    if month == 12:\n",
    "        month = 1\n",
    "        year = year + 1\n",
    "    else:\n",
    "        month = month + 1\n",
    "        \n",
    "    params['targetTime'] = f\"{month:02d}\"\n",
    "    params['hitYear'] = f\"{year}\"\n",
    "\n",
    "    response = requests.get(url,params=params, headers=headers)\n",
    "    soup = BeautifulSoup(response.text,'html.parser')\n",
    "\n",
    "    song_list = soup.select('tr')\n",
    "    \n",
    "    print(\"{}/{} 디지털 순위--------\".format(year,month))\n",
    "    for song in song_list[1:201]:\n",
    "        try:\n",
    "            temp = list()\n",
    "            rank = song.select('td.ranking')[0].text\n",
    "            title = song.select('p')[0].text\n",
    "            artist = song.select('p')[1].text.split('|')[0]\n",
    "            album = song.select('p')[1].text.split('|')[1]\n",
    "            print(\"{}위 {} by {} - {}\".format(rank, title, artist, album))\n",
    "            temp = [year, month, rank, title, artist, album]\n",
    "            karaoke_list.append(temp)\n",
    "        except:\n",
    "            break"
   ]
  },
  {
   "cell_type": "code",
   "execution_count": 9,
   "metadata": {},
   "outputs": [],
   "source": [
    "import re\n",
    "import requests\n",
    "from bs4 import BeautifulSoup\n",
    "from datetime import datetime\n",
    "\n",
    "headers = {\n",
    "        'User-Agent': ('Mozilla/5.0 (Macintosh; Intel Mac OS X 10_16_0) AppleWebKit/537.36 (KHTML, like Gecko) Chrome/84.0.4147.135 Safari/537.36'),\n",
    "        'referer' : ('http://gaonchart.co.kr/main/section/chart/social_2.gaon')\n",
    "}\n",
    "\n",
    "url = 'http://gaonchart.co.kr/main/section/chart/social_2.gaon'\n",
    "\n",
    "response = requests.get(url, headers=headers)\n",
    "soup = BeautifulSoup(response.text,'html.parser')\n"
   ]
  },
  {
   "cell_type": "code",
   "execution_count": 13,
   "metadata": {},
   "outputs": [
    {
     "name": "stdout",
     "output_type": "stream",
     "text": [
      "Parsing\t\t     backtest\t kafka\tnifi_test  workspace\r\n",
      "avro-python3-1.10.0  crawl\t mysql\tsnap\t   ydhwang\r\n",
      "avro_nifi\t     dockerfile  nifi\twget-log\r\n"
     ]
    }
   ],
   "source": [
    "!ls ~"
   ]
  },
  {
   "cell_type": "code",
   "execution_count": 11,
   "metadata": {},
   "outputs": [
    {
     "name": "stdout",
     "output_type": "stream",
     "text": [
      "selenium==3.141.0\r\n"
     ]
    }
   ],
   "source": [
    "from selenium import webdriver\n"
   ]
  },
  {
   "cell_type": "code",
   "execution_count": null,
   "metadata": {},
   "outputs": [],
   "source": []
  }
 ],
 "metadata": {
  "kernelspec": {
   "display_name": "Python 3",
   "language": "python",
   "name": "python3"
  },
  "language_info": {
   "codemirror_mode": {
    "name": "ipython",
    "version": 3
   },
   "file_extension": ".py",
   "mimetype": "text/x-python",
   "name": "python",
   "nbconvert_exporter": "python",
   "pygments_lexer": "ipython3",
   "version": "3.6.9"
  }
 },
 "nbformat": 4,
 "nbformat_minor": 4
}
